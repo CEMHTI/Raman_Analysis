{
 "cells": [
  {
   "cell_type": "markdown",
   "id": "6b1d2f17",
   "metadata": {},
   "source": [
    "Import all modules you'll need. if you get an error like : no module \"module_name\" found; just run \"pip install module_name\" in empty cell."
   ]
  },
  {
   "cell_type": "code",
   "execution_count": 1,
   "id": "2601a3f7",
   "metadata": {},
   "outputs": [],
   "source": [
    "%matplotlib Qt\n",
    "%load_ext autoreload \n",
    "# to automaticaly reload all the modules that have been modified\n",
    "%autoreload 2 \n",
    "import os\n",
    "from glob import glob\n",
    "import numpy as np\n",
    "import xarray as xr\n",
    "import matplotlib.pyplot as plt\n",
    "from scipy import interpolate\n",
    "from sklearn.model_selection import train_test_split, cross_val_score, GridSearchCV, ShuffleSplit\n",
    "from sklearn import svm, kernel_ridge, metrics, preprocessing\n",
    "from PIL import Image, ExifTags, ImageFile\n",
    "import visualize as vis\n",
    "import preprocessing as pp\n",
    "import processing as proc\n",
    "import calculate as cc\n",
    "import pandas as pd\n",
    "import correction as corr\n",
    "from read_WDF import read_WDF, get_exif\n",
    "import warnings\n",
    "warnings.filterwarnings('ignore')"
   ]
  },
  {
   "cell_type": "markdown",
   "id": "0596409b",
   "metadata": {},
   "source": [
    "For the moment, I haven't found a module in python that reads FTIR .map files, so you need to transform your file into .xlsx"
   ]
  },
  {
   "cell_type": "markdown",
   "id": "e9b97128",
   "metadata": {},
   "source": [
    "### Reading"
   ]
  },
  {
   "cell_type": "code",
   "execution_count": 2,
   "id": "5d54e25b",
   "metadata": {},
   "outputs": [
    {
     "name": "stdout",
     "output_type": "stream",
     "text": [
      "0 )  a_3700.xlsx\n",
      "1 )  FTIR-Carto-T140.xlsx\n",
      "2 )  FTIR_Carto.xlsx\n"
     ]
    }
   ],
   "source": [
    "os.chdir('C:/Users/raoul.missodey/Desktop/Code_python')\n",
    "files = glob('*.xlsx')\n",
    "for i, j in enumerate(files):\n",
    "    print(i, ') ', j)"
   ]
  },
  {
   "cell_type": "code",
   "execution_count": 3,
   "id": "9425fffb",
   "metadata": {},
   "outputs": [],
   "source": [
    "filename = files[1] # choose the number of .xlsx file you want to use.\n",
    "# load the file\n",
    "da =  pd.read_excel(filename)"
   ]
  },
  {
   "cell_type": "code",
   "execution_count": 50,
   "id": "7f18c94c",
   "metadata": {},
   "outputs": [
    {
     "data": {
      "text/html": [
       "<div>\n",
       "<style scoped>\n",
       "    .dataframe tbody tr th:only-of-type {\n",
       "        vertical-align: middle;\n",
       "    }\n",
       "\n",
       "    .dataframe tbody tr th {\n",
       "        vertical-align: top;\n",
       "    }\n",
       "\n",
       "    .dataframe thead th {\n",
       "        text-align: right;\n",
       "    }\n",
       "</style>\n",
       "<table border=\"1\" class=\"dataframe\">\n",
       "  <thead>\n",
       "    <tr style=\"text-align: right;\">\n",
       "      <th></th>\n",
       "      <th>Unnamed: 0</th>\n",
       "      <th>Unnamed: 1</th>\n",
       "      <th>2599.61</th>\n",
       "      <th>2603.47</th>\n",
       "      <th>2607.33</th>\n",
       "      <th>2611.19</th>\n",
       "      <th>2615.04</th>\n",
       "      <th>2618.9</th>\n",
       "      <th>2622.76</th>\n",
       "      <th>2626.61</th>\n",
       "      <th>...</th>\n",
       "      <th>4963.95</th>\n",
       "      <th>4967.81</th>\n",
       "      <th>4971.67</th>\n",
       "      <th>4975.52</th>\n",
       "      <th>4979.38</th>\n",
       "      <th>4983.24</th>\n",
       "      <th>4987.09</th>\n",
       "      <th>4990.95</th>\n",
       "      <th>4994.81</th>\n",
       "      <th>4998.66</th>\n",
       "    </tr>\n",
       "  </thead>\n",
       "  <tbody>\n",
       "    <tr>\n",
       "      <th>0</th>\n",
       "      <td>-2204</td>\n",
       "      <td>1247</td>\n",
       "      <td>0.188377</td>\n",
       "      <td>0.172348</td>\n",
       "      <td>0.160974</td>\n",
       "      <td>0.176721</td>\n",
       "      <td>0.191674</td>\n",
       "      <td>0.186964</td>\n",
       "      <td>0.179221</td>\n",
       "      <td>0.178539</td>\n",
       "      <td>...</td>\n",
       "      <td>-0.114037</td>\n",
       "      <td>-0.117788</td>\n",
       "      <td>-0.119053</td>\n",
       "      <td>-0.116083</td>\n",
       "      <td>-0.118494</td>\n",
       "      <td>-0.121863</td>\n",
       "      <td>-0.121974</td>\n",
       "      <td>-0.119463</td>\n",
       "      <td>-0.118023</td>\n",
       "      <td>-0.119668</td>\n",
       "    </tr>\n",
       "    <tr>\n",
       "      <th>1</th>\n",
       "      <td>-2201</td>\n",
       "      <td>1247</td>\n",
       "      <td>0.147287</td>\n",
       "      <td>0.142443</td>\n",
       "      <td>0.120782</td>\n",
       "      <td>0.132604</td>\n",
       "      <td>0.159630</td>\n",
       "      <td>0.156830</td>\n",
       "      <td>0.148951</td>\n",
       "      <td>0.151998</td>\n",
       "      <td>...</td>\n",
       "      <td>-0.038045</td>\n",
       "      <td>-0.042250</td>\n",
       "      <td>-0.040727</td>\n",
       "      <td>-0.038048</td>\n",
       "      <td>-0.042043</td>\n",
       "      <td>-0.044781</td>\n",
       "      <td>-0.043282</td>\n",
       "      <td>-0.042670</td>\n",
       "      <td>-0.044703</td>\n",
       "      <td>-0.045677</td>\n",
       "    </tr>\n",
       "    <tr>\n",
       "      <th>2</th>\n",
       "      <td>-2198</td>\n",
       "      <td>1247</td>\n",
       "      <td>0.154792</td>\n",
       "      <td>0.140674</td>\n",
       "      <td>0.126534</td>\n",
       "      <td>0.130258</td>\n",
       "      <td>0.152460</td>\n",
       "      <td>0.156669</td>\n",
       "      <td>0.148612</td>\n",
       "      <td>0.149710</td>\n",
       "      <td>...</td>\n",
       "      <td>0.055802</td>\n",
       "      <td>0.054514</td>\n",
       "      <td>0.055744</td>\n",
       "      <td>0.058381</td>\n",
       "      <td>0.053826</td>\n",
       "      <td>0.050398</td>\n",
       "      <td>0.053213</td>\n",
       "      <td>0.052844</td>\n",
       "      <td>0.049903</td>\n",
       "      <td>0.049343</td>\n",
       "    </tr>\n",
       "    <tr>\n",
       "      <th>3</th>\n",
       "      <td>-2195</td>\n",
       "      <td>1247</td>\n",
       "      <td>0.126609</td>\n",
       "      <td>0.128221</td>\n",
       "      <td>0.125939</td>\n",
       "      <td>0.127639</td>\n",
       "      <td>0.137236</td>\n",
       "      <td>0.149622</td>\n",
       "      <td>0.147488</td>\n",
       "      <td>0.143212</td>\n",
       "      <td>...</td>\n",
       "      <td>0.091844</td>\n",
       "      <td>0.091188</td>\n",
       "      <td>0.092735</td>\n",
       "      <td>0.094038</td>\n",
       "      <td>0.092980</td>\n",
       "      <td>0.089317</td>\n",
       "      <td>0.090110</td>\n",
       "      <td>0.090065</td>\n",
       "      <td>0.086781</td>\n",
       "      <td>0.086811</td>\n",
       "    </tr>\n",
       "    <tr>\n",
       "      <th>4</th>\n",
       "      <td>-2192</td>\n",
       "      <td>1247</td>\n",
       "      <td>0.142480</td>\n",
       "      <td>0.121166</td>\n",
       "      <td>0.115505</td>\n",
       "      <td>0.136026</td>\n",
       "      <td>0.145826</td>\n",
       "      <td>0.136403</td>\n",
       "      <td>0.126975</td>\n",
       "      <td>0.136495</td>\n",
       "      <td>...</td>\n",
       "      <td>0.111472</td>\n",
       "      <td>0.110103</td>\n",
       "      <td>0.111642</td>\n",
       "      <td>0.114490</td>\n",
       "      <td>0.114219</td>\n",
       "      <td>0.110873</td>\n",
       "      <td>0.111730</td>\n",
       "      <td>0.111440</td>\n",
       "      <td>0.107676</td>\n",
       "      <td>0.107059</td>\n",
       "    </tr>\n",
       "    <tr>\n",
       "      <th>...</th>\n",
       "      <td>...</td>\n",
       "      <td>...</td>\n",
       "      <td>...</td>\n",
       "      <td>...</td>\n",
       "      <td>...</td>\n",
       "      <td>...</td>\n",
       "      <td>...</td>\n",
       "      <td>...</td>\n",
       "      <td>...</td>\n",
       "      <td>...</td>\n",
       "      <td>...</td>\n",
       "      <td>...</td>\n",
       "      <td>...</td>\n",
       "      <td>...</td>\n",
       "      <td>...</td>\n",
       "      <td>...</td>\n",
       "      <td>...</td>\n",
       "      <td>...</td>\n",
       "      <td>...</td>\n",
       "      <td>...</td>\n",
       "      <td>...</td>\n",
       "    </tr>\n",
       "    <tr>\n",
       "      <th>319</th>\n",
       "      <td>-2138</td>\n",
       "      <td>1280</td>\n",
       "      <td>0.060743</td>\n",
       "      <td>0.041290</td>\n",
       "      <td>0.047987</td>\n",
       "      <td>0.061014</td>\n",
       "      <td>0.057477</td>\n",
       "      <td>0.058508</td>\n",
       "      <td>0.059368</td>\n",
       "      <td>0.061846</td>\n",
       "      <td>...</td>\n",
       "      <td>0.028541</td>\n",
       "      <td>0.025318</td>\n",
       "      <td>0.025248</td>\n",
       "      <td>0.028720</td>\n",
       "      <td>0.026324</td>\n",
       "      <td>0.023912</td>\n",
       "      <td>0.027834</td>\n",
       "      <td>0.029588</td>\n",
       "      <td>0.029432</td>\n",
       "      <td>0.030044</td>\n",
       "    </tr>\n",
       "    <tr>\n",
       "      <th>320</th>\n",
       "      <td>-2135</td>\n",
       "      <td>1280</td>\n",
       "      <td>0.045435</td>\n",
       "      <td>0.027787</td>\n",
       "      <td>0.027406</td>\n",
       "      <td>0.049754</td>\n",
       "      <td>0.055192</td>\n",
       "      <td>0.052532</td>\n",
       "      <td>0.055794</td>\n",
       "      <td>0.057292</td>\n",
       "      <td>...</td>\n",
       "      <td>-0.006492</td>\n",
       "      <td>-0.011345</td>\n",
       "      <td>-0.010181</td>\n",
       "      <td>-0.004935</td>\n",
       "      <td>-0.006056</td>\n",
       "      <td>-0.009378</td>\n",
       "      <td>-0.007828</td>\n",
       "      <td>-0.004743</td>\n",
       "      <td>-0.003871</td>\n",
       "      <td>-0.003208</td>\n",
       "    </tr>\n",
       "    <tr>\n",
       "      <th>321</th>\n",
       "      <td>-2132</td>\n",
       "      <td>1280</td>\n",
       "      <td>0.048183</td>\n",
       "      <td>0.047353</td>\n",
       "      <td>0.034151</td>\n",
       "      <td>0.037147</td>\n",
       "      <td>0.043654</td>\n",
       "      <td>0.049434</td>\n",
       "      <td>0.059400</td>\n",
       "      <td>0.063431</td>\n",
       "      <td>...</td>\n",
       "      <td>-0.023712</td>\n",
       "      <td>-0.026859</td>\n",
       "      <td>-0.028826</td>\n",
       "      <td>-0.025735</td>\n",
       "      <td>-0.025994</td>\n",
       "      <td>-0.029692</td>\n",
       "      <td>-0.029135</td>\n",
       "      <td>-0.025405</td>\n",
       "      <td>-0.023668</td>\n",
       "      <td>-0.023512</td>\n",
       "    </tr>\n",
       "    <tr>\n",
       "      <th>322</th>\n",
       "      <td>-2129</td>\n",
       "      <td>1280</td>\n",
       "      <td>0.050034</td>\n",
       "      <td>0.047908</td>\n",
       "      <td>0.041544</td>\n",
       "      <td>0.053682</td>\n",
       "      <td>0.064766</td>\n",
       "      <td>0.061012</td>\n",
       "      <td>0.060020</td>\n",
       "      <td>0.058751</td>\n",
       "      <td>...</td>\n",
       "      <td>-0.043850</td>\n",
       "      <td>-0.046912</td>\n",
       "      <td>-0.045925</td>\n",
       "      <td>-0.042759</td>\n",
       "      <td>-0.045041</td>\n",
       "      <td>-0.048082</td>\n",
       "      <td>-0.044475</td>\n",
       "      <td>-0.040046</td>\n",
       "      <td>-0.040423</td>\n",
       "      <td>-0.041889</td>\n",
       "    </tr>\n",
       "    <tr>\n",
       "      <th>323</th>\n",
       "      <td>-2126</td>\n",
       "      <td>1280</td>\n",
       "      <td>0.089219</td>\n",
       "      <td>0.063843</td>\n",
       "      <td>0.042502</td>\n",
       "      <td>0.050472</td>\n",
       "      <td>0.056675</td>\n",
       "      <td>0.063495</td>\n",
       "      <td>0.064996</td>\n",
       "      <td>0.067904</td>\n",
       "      <td>...</td>\n",
       "      <td>-0.057229</td>\n",
       "      <td>-0.059639</td>\n",
       "      <td>-0.061652</td>\n",
       "      <td>-0.059486</td>\n",
       "      <td>-0.060156</td>\n",
       "      <td>-0.063337</td>\n",
       "      <td>-0.060672</td>\n",
       "      <td>-0.057700</td>\n",
       "      <td>-0.058880</td>\n",
       "      <td>-0.059387</td>\n",
       "    </tr>\n",
       "  </tbody>\n",
       "</table>\n",
       "<p>324 rows × 625 columns</p>\n",
       "</div>"
      ],
      "text/plain": [
       "     Unnamed: 0  Unnamed: 1   2599.61   2603.47   2607.33   2611.19   2615.04  \\\n",
       "0         -2204        1247  0.188377  0.172348  0.160974  0.176721  0.191674   \n",
       "1         -2201        1247  0.147287  0.142443  0.120782  0.132604  0.159630   \n",
       "2         -2198        1247  0.154792  0.140674  0.126534  0.130258  0.152460   \n",
       "3         -2195        1247  0.126609  0.128221  0.125939  0.127639  0.137236   \n",
       "4         -2192        1247  0.142480  0.121166  0.115505  0.136026  0.145826   \n",
       "..          ...         ...       ...       ...       ...       ...       ...   \n",
       "319       -2138        1280  0.060743  0.041290  0.047987  0.061014  0.057477   \n",
       "320       -2135        1280  0.045435  0.027787  0.027406  0.049754  0.055192   \n",
       "321       -2132        1280  0.048183  0.047353  0.034151  0.037147  0.043654   \n",
       "322       -2129        1280  0.050034  0.047908  0.041544  0.053682  0.064766   \n",
       "323       -2126        1280  0.089219  0.063843  0.042502  0.050472  0.056675   \n",
       "\n",
       "       2618.9   2622.76   2626.61  ...   4963.95   4967.81   4971.67  \\\n",
       "0    0.186964  0.179221  0.178539  ... -0.114037 -0.117788 -0.119053   \n",
       "1    0.156830  0.148951  0.151998  ... -0.038045 -0.042250 -0.040727   \n",
       "2    0.156669  0.148612  0.149710  ...  0.055802  0.054514  0.055744   \n",
       "3    0.149622  0.147488  0.143212  ...  0.091844  0.091188  0.092735   \n",
       "4    0.136403  0.126975  0.136495  ...  0.111472  0.110103  0.111642   \n",
       "..        ...       ...       ...  ...       ...       ...       ...   \n",
       "319  0.058508  0.059368  0.061846  ...  0.028541  0.025318  0.025248   \n",
       "320  0.052532  0.055794  0.057292  ... -0.006492 -0.011345 -0.010181   \n",
       "321  0.049434  0.059400  0.063431  ... -0.023712 -0.026859 -0.028826   \n",
       "322  0.061012  0.060020  0.058751  ... -0.043850 -0.046912 -0.045925   \n",
       "323  0.063495  0.064996  0.067904  ... -0.057229 -0.059639 -0.061652   \n",
       "\n",
       "      4975.52   4979.38   4983.24   4987.09   4990.95   4994.81   4998.66  \n",
       "0   -0.116083 -0.118494 -0.121863 -0.121974 -0.119463 -0.118023 -0.119668  \n",
       "1   -0.038048 -0.042043 -0.044781 -0.043282 -0.042670 -0.044703 -0.045677  \n",
       "2    0.058381  0.053826  0.050398  0.053213  0.052844  0.049903  0.049343  \n",
       "3    0.094038  0.092980  0.089317  0.090110  0.090065  0.086781  0.086811  \n",
       "4    0.114490  0.114219  0.110873  0.111730  0.111440  0.107676  0.107059  \n",
       "..        ...       ...       ...       ...       ...       ...       ...  \n",
       "319  0.028720  0.026324  0.023912  0.027834  0.029588  0.029432  0.030044  \n",
       "320 -0.004935 -0.006056 -0.009378 -0.007828 -0.004743 -0.003871 -0.003208  \n",
       "321 -0.025735 -0.025994 -0.029692 -0.029135 -0.025405 -0.023668 -0.023512  \n",
       "322 -0.042759 -0.045041 -0.048082 -0.044475 -0.040046 -0.040423 -0.041889  \n",
       "323 -0.059486 -0.060156 -0.063337 -0.060672 -0.057700 -0.058880 -0.059387  \n",
       "\n",
       "[324 rows x 625 columns]"
      ]
     },
     "execution_count": 50,
     "metadata": {},
     "output_type": "execute_result"
    }
   ],
   "source": [
    "# show your data\n",
    "da"
   ]
  },
  {
   "cell_type": "code",
   "execution_count": null,
   "id": "969f0407",
   "metadata": {},
   "outputs": [],
   "source": []
  },
  {
   "cell_type": "markdown",
   "id": "fd9c9648",
   "metadata": {},
   "source": []
  },
  {
   "cell_type": "markdown",
   "id": "8ef17c9f",
   "metadata": {},
   "source": [
    "## Preprocessing"
   ]
  },
  {
   "cell_type": "markdown",
   "id": "988aa4e6",
   "metadata": {},
   "source": [
    "if the first row of your data contains the Raman shifts and the first two columns are map_x and map_y. "
   ]
  },
  {
   "cell_type": "code",
   "execution_count": 6,
   "id": "93964394",
   "metadata": {},
   "outputs": [],
   "source": [
    "da_data = da.iloc[:,2:].values.copy()\n",
    "ftir_mapx = da.iloc[:,0].values.copy()\n",
    "ftir_mapy = da.iloc[:,1].values.copy()\n",
    "raman_shifts = da.columns.values[2:]\n",
    "raman_shifts =  np.round([float(i) for i in da.columns.values[2:]],1)"
   ]
  },
  {
   "cell_type": "markdown",
   "id": "9af3deac",
   "metadata": {},
   "source": [
    "if the first row of your data contains the Raman shifts and the last two columns are map_x and map_y. "
   ]
  },
  {
   "cell_type": "code",
   "execution_count": 9,
   "id": "28c698b5",
   "metadata": {},
   "outputs": [],
   "source": [
    "da_data = da.iloc[:,0:-2].values.copy()\n",
    "ftir_mapx = da.iloc[:,-2].values.copy()\n",
    "ftir_mapy = da.iloc[:,-1].values.copy()\n",
    "raman_shifts = da.columns.values[:-2]\n",
    "raman_shifts =  np.round([float(i) for i in da.columns.values[:-2]],1)"
   ]
  },
  {
   "cell_type": "code",
   "execution_count": null,
   "id": "5b7fbda8",
   "metadata": {},
   "outputs": [],
   "source": []
  },
  {
   "cell_type": "code",
   "execution_count": 7,
   "id": "5f089fca",
   "metadata": {},
   "outputs": [
    {
     "data": {
      "text/plain": [
       "<visualize.ShowSpectra at 0x22eb1f8db20>"
      ]
     },
     "execution_count": 7,
     "metadata": {},
     "output_type": "execute_result"
    }
   ],
   "source": [
    "# run this cell to see all your spectra\n",
    "vis.ShowSpectra(da_data, sigma = raman_shifts)"
   ]
  },
  {
   "cell_type": "markdown",
   "id": "d6174f24",
   "metadata": {},
   "source": [
    "### Baseline Substraction\n",
    "\n",
    "Two options to substract the baseline "
   ]
  },
  {
   "cell_type": "markdown",
   "id": "c936b8c3",
   "metadata": {},
   "source": [
    "#### 1st option"
   ]
  },
  {
   "cell_type": "code",
   "execution_count": 12,
   "id": "9ad11d52",
   "metadata": {},
   "outputs": [],
   "source": [
    "#  substract baseline : you have to modify lambda_value(smoothing parameter), p_value(the penalizing weighting factor)\n",
    "# and lambda1_value(the smoothing parameter for the first derivative of the residual).\n",
    "check_bline = vis.FindBaseline(da_data,sigma=raman_shifts)"
   ]
  },
  {
   "cell_type": "code",
   "execution_count": 12,
   "id": "79b50254",
   "metadata": {},
   "outputs": [
    {
     "name": "stdout",
     "output_type": "stream",
     "text": [
      "p: 1.92e-02, lam: 8.70e+06,lam1: 8.45e-03 \n"
     ]
    }
   ],
   "source": [
    "# run to see chosen values\n",
    "print(f\"p: {check_bline.p_val:.2e}, lam: {check_bline.lam_val:.2e},lam1: {check_bline.lam1_val:.2e} \")"
   ]
  },
  {
   "cell_type": "code",
   "execution_count": 13,
   "id": "9d021fcd",
   "metadata": {},
   "outputs": [],
   "source": [
    "# calculate the basline for all spectrum\n",
    "baseline = cc.baseline_ials(da_data, p=check_bline.p_val, lam=check_bline.lam_val, lam1= check_bline.lam1_val)"
   ]
  },
  {
   "cell_type": "code",
   "execution_count": 16,
   "id": "3480c15d",
   "metadata": {},
   "outputs": [],
   "source": [
    "# substraction\n",
    "db = da_data.copy()\n",
    "db = db - baseline"
   ]
  },
  {
   "cell_type": "markdown",
   "id": "45b56a9b",
   "metadata": {},
   "source": [
    "#### 2nd option"
   ]
  },
  {
   "cell_type": "code",
   "execution_count": 13,
   "id": "775163ae",
   "metadata": {},
   "outputs": [],
   "source": [
    "check_bline = vis.FindBaseline1(da_data,sigma=raman_shifts)"
   ]
  },
  {
   "cell_type": "code",
   "execution_count": 14,
   "id": "8057de99",
   "metadata": {},
   "outputs": [
    {
     "name": "stdout",
     "output_type": "stream",
     "text": [
      "lam: 1.01e+07\n"
     ]
    }
   ],
   "source": [
    "print(f\"lam: {check_bline.lam_val:.2e}\")"
   ]
  },
  {
   "cell_type": "code",
   "execution_count": 15,
   "id": "67142482",
   "metadata": {},
   "outputs": [],
   "source": [
    "# calculate the basline for all spectrum\n",
    "baseline = cc.baseline_arpls(da_data, lam=check_bline.lam_val)"
   ]
  },
  {
   "cell_type": "code",
   "execution_count": 16,
   "id": "b8f8234d",
   "metadata": {},
   "outputs": [],
   "source": [
    "# substraction\n",
    "db = da_data.copy()\n",
    "db = db - baseline"
   ]
  },
  {
   "cell_type": "code",
   "execution_count": null,
   "id": "f100b2e0",
   "metadata": {},
   "outputs": [],
   "source": []
  },
  {
   "cell_type": "code",
   "execution_count": null,
   "id": "770cd6e0",
   "metadata": {},
   "outputs": [],
   "source": []
  },
  {
   "cell_type": "markdown",
   "id": "b5413ff6",
   "metadata": {},
   "source": [
    "### Normalization"
   ]
  },
  {
   "cell_type": "code",
   "execution_count": 17,
   "id": "5331217e",
   "metadata": {},
   "outputs": [],
   "source": [
    "# choose normalize method you want to apply : min_max, l1, l2, max, area, robust_scale \n",
    "db -= np.min(db, axis=-1, keepdims=True)\n",
    "dn = pp.normalize(db, method=\"min_max\")"
   ]
  },
  {
   "cell_type": "code",
   "execution_count": null,
   "id": "2d38cd2f",
   "metadata": {},
   "outputs": [],
   "source": []
  },
  {
   "cell_type": "markdown",
   "id": "c84af30d",
   "metadata": {},
   "source": [
    "## Processing"
   ]
  },
  {
   "cell_type": "markdown",
   "id": "e74caff5",
   "metadata": {},
   "source": [
    "### PCA\n",
    "Before doing the PCA, you need to know your scan_shape. After that, you can replace it in the \"pp.svd_decomp\" . You can also changed the \"n_components\""
   ]
  },
  {
   "cell_type": "code",
   "execution_count": 59,
   "id": "549e109b",
   "metadata": {},
   "outputs": [],
   "source": [
    "# compute pca using svd decomposition\n",
    "dsvd ,var,score ,l= pp.svd_decomp(da_data,components_sigma=raman_shifts, n_components=10, visualize_clean=1, visualize_components=1,visualize_err=1,scanshape=(12,27))"
   ]
  },
  {
   "cell_type": "code",
   "execution_count": 76,
   "id": "88412053",
   "metadata": {},
   "outputs": [],
   "source": [
    "# advanced svd : click inside the score image to have the related spectra, \n",
    "# change the feature_range to normalize the related spectra\n",
    "advanced_svd = vis.SVD(dn, n_components=10, visualize_clean=1, visualize_components=1,components_sigma=raman_shifts,\n",
    "                       visualize_err=1,visualize_var=1,feature_range=(-0.075,0.075),scanshape=(12,27))\n",
    "dsvd ,var,scores,loadings = advanced_svd.svd_element(dn)"
   ]
  },
  {
   "cell_type": "code",
   "execution_count": null,
   "id": "9c1c6906",
   "metadata": {},
   "outputs": [],
   "source": []
  },
  {
   "cell_type": "markdown",
   "id": "c2695346",
   "metadata": {},
   "source": [
    "### NMF\n",
    "\n",
    "The same thing for NMF decompostion"
   ]
  },
  {
   "cell_type": "code",
   "execution_count": 74,
   "id": "53f73005",
   "metadata": {},
   "outputs": [
    {
     "name": "stdout",
     "output_type": "stream",
     "text": [
      "Error increased above fractionalctol_increase (C iter). Exiting\n"
     ]
    }
   ],
   "source": [
    "# Run this cell to see pure spectrum and pure contribution\n",
    "dnm = proc.deconvolve_nmf(dn,components_sigma=raman_shifts, n_components=4, visualize_components=1, visualize_compare=1, visualize_err=1,scanshape=(12,27))"
   ]
  },
  {
   "cell_type": "code",
   "execution_count": 44,
   "id": "e42feef4",
   "metadata": {},
   "outputs": [],
   "source": [
    "# run this cell to fit all your spectra. here we use pseudo-voigt as model.\n",
    "# left click to draw the model, left click on the top of a model to remove it,\n",
    "# right click to draw the result of cumulative sum of all your models\n",
    "# after right clicking, if the sum is not good, just remove your indesirable models et restart.\n",
    "# scroll your mouse to adjust the width of the models\n",
    "\n",
    "# Important : double rigth click to end.\n",
    "#important : your data should have correct baseline et must be normalized.\n",
    "fiallspectra = vis.FitAllSpectra(dn)"
   ]
  },
  {
   "cell_type": "code",
   "execution_count": 45,
   "id": "167121d1",
   "metadata": {},
   "outputs": [
    {
     "name": "stdout",
     "output_type": "stream",
     "text": [
      "0.5224082350730896 min\n"
     ]
    }
   ],
   "source": [
    "# after adding your model to the peaks position, run this cell to see the results.\n",
    "# this may take few minutes because I stock the peaks parameters in array which you can access through \"fitparams.pic_h\"\n",
    "# the table in the bottom of the plot doesn't change because it's just the parameters of the first fitting.\n",
    "# by now, it will take time to change the table when updating the plot.\n",
    "# \"fitparams.pic_h\" can be used to plot the peak ratio\n",
    "# \"fitparams.pic_a\" can be used to plot the peak ratio\n",
    "from time import*\n",
    "start = time()\n",
    "fitparams = vis.FitParams1(dn, fiallspectra.x_size, fiallspectra.peaks_counter,\n",
    "          fiallspectra.pic, fiallspectra.sum_peak)\n",
    "end = time()\n",
    "print((end - start)/60,\"min\")"
   ]
  },
  {
   "cell_type": "code",
   "execution_count": 47,
   "id": "a4bb058c",
   "metadata": {},
   "outputs": [],
   "source": [
    "# run this cell to plot the peak ratio.\n",
    "# changes values in \"ratio\" according to which peak over which you whant to plot\n",
    "# use \"fitparams.pic_h\" to plot the peak height ratio : for instance ,to plot 1/2 , you will add ratio=(1,2)\n",
    "\n",
    "# use \"fitparams.pic_a\" to plot the peak area ratio : for instance ,to plot 1/2 , you will add ratio=(1,2)\n",
    "# to plot 0/(1+2) , you will add ratio = (0,1,2)\n",
    "\n",
    "vis.pic_ratio(da,fitparams.pic_h,ratio=(0,1),scanshape=(12,17))"
   ]
  }
 ],
 "metadata": {
  "kernelspec": {
   "display_name": "Python 3 (ipykernel)",
   "language": "python",
   "name": "python3"
  },
  "language_info": {
   "codemirror_mode": {
    "name": "ipython",
    "version": 3
   },
   "file_extension": ".py",
   "mimetype": "text/x-python",
   "name": "python",
   "nbconvert_exporter": "python",
   "pygments_lexer": "ipython3",
   "version": "3.9.12"
  }
 },
 "nbformat": 4,
 "nbformat_minor": 5
}
