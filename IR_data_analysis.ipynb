{
 "cells": [
  {
   "cell_type": "markdown",
   "id": "b1ec4c14",
   "metadata": {},
   "source": [
    "Import all modules you'll need. if you get an error like : no module \"module_name\" found; just run \"pip install module_name\" in empty cell."
   ]
  },
  {
   "cell_type": "code",
   "execution_count": 1,
   "id": "d2e9ba24",
   "metadata": {},
   "outputs": [],
   "source": [
    "%matplotlib Qt\n",
    "%load_ext autoreload \n",
    "# to automaticaly reload all the modules that have been modified\n",
    "%autoreload 2 \n",
    "import os\n",
    "from glob import glob\n",
    "import numpy as np\n",
    "import xarray as xr\n",
    "import matplotlib.pyplot as plt\n",
    "from scipy import interpolate\n",
    "from sklearn.model_selection import train_test_split, cross_val_score, GridSearchCV, ShuffleSplit\n",
    "from sklearn import svm, kernel_ridge, metrics, preprocessing\n",
    "from PIL import Image, ExifTags, ImageFile\n",
    "import visualize as vis\n",
    "import preprocessing as pp\n",
    "import processing as proc\n",
    "import calculate as cc\n",
    "import pandas as pd\n",
    "import correction as corr\n",
    "from read_WDF import read_WDF, get_exif\n",
    "import warnings\n",
    "warnings.filterwarnings('ignore')"
   ]
  },
  {
   "cell_type": "markdown",
   "id": "f1315ba3",
   "metadata": {},
   "source": [
    "For the moment, I haven't found a module in python that reads FTIR .map files, so you need to transform your file into .xlsx"
   ]
  },
  {
   "cell_type": "markdown",
   "id": "dc31beaa",
   "metadata": {},
   "source": [
    "### Reading"
   ]
  },
  {
   "cell_type": "code",
   "execution_count": 2,
   "id": "05a80e6b",
   "metadata": {},
   "outputs": [
    {
     "name": "stdout",
     "output_type": "stream",
     "text": [
      "0 )  FTIR-Carto-T140.xlsx\n",
      "1 )  FTIR_Carto.xlsx\n",
      "2 )  ~$FTIR-Carto-T140.xlsx\n",
      "3 )  ~$FTIR_Carto.xlsx\n"
     ]
    }
   ],
   "source": [
    "os.chdir('C:/Users/raoul.missodey/Desktop/Code_python')\n",
    "files = glob('*.xlsx')\n",
    "for i, j in enumerate(files):\n",
    "    print(i, ') ', j)"
   ]
  },
  {
   "cell_type": "code",
   "execution_count": 4,
   "id": "0691d4e5",
   "metadata": {},
   "outputs": [],
   "source": [
    "filename = files[1] # choose the number of .xlsx file you want to use.\n",
    "# load the file\n",
    "da =  pd.read_excel(filename)"
   ]
  },
  {
   "cell_type": "code",
   "execution_count": 5,
   "id": "9551205a",
   "metadata": {},
   "outputs": [
    {
     "data": {
      "text/html": [
       "<div>\n",
       "<style scoped>\n",
       "    .dataframe tbody tr th:only-of-type {\n",
       "        vertical-align: middle;\n",
       "    }\n",
       "\n",
       "    .dataframe tbody tr th {\n",
       "        vertical-align: top;\n",
       "    }\n",
       "\n",
       "    .dataframe thead th {\n",
       "        text-align: right;\n",
       "    }\n",
       "</style>\n",
       "<table border=\"1\" class=\"dataframe\">\n",
       "  <thead>\n",
       "    <tr style=\"text-align: right;\">\n",
       "      <th></th>\n",
       "      <th>2499.332520</th>\n",
       "      <th>2503.189515</th>\n",
       "      <th>2507.046510</th>\n",
       "      <th>2510.903505</th>\n",
       "      <th>2514.760500</th>\n",
       "      <th>2518.617495</th>\n",
       "      <th>2522.474490</th>\n",
       "      <th>2526.331485</th>\n",
       "      <th>2530.188480</th>\n",
       "      <th>2534.045475</th>\n",
       "      <th>...</th>\n",
       "      <th>5473.075741</th>\n",
       "      <th>5476.932736</th>\n",
       "      <th>5480.789732</th>\n",
       "      <th>5484.646727</th>\n",
       "      <th>5488.503722</th>\n",
       "      <th>5492.360717</th>\n",
       "      <th>5496.217712</th>\n",
       "      <th>5500.074707</th>\n",
       "      <th>map_x</th>\n",
       "      <th>map_y</th>\n",
       "    </tr>\n",
       "  </thead>\n",
       "  <tbody>\n",
       "    <tr>\n",
       "      <th>0</th>\n",
       "      <td>0.243704</td>\n",
       "      <td>0.233024</td>\n",
       "      <td>0.229345</td>\n",
       "      <td>0.243829</td>\n",
       "      <td>0.249446</td>\n",
       "      <td>0.253125</td>\n",
       "      <td>0.266522</td>\n",
       "      <td>0.274338</td>\n",
       "      <td>0.276199</td>\n",
       "      <td>0.268497</td>\n",
       "      <td>...</td>\n",
       "      <td>0.123744</td>\n",
       "      <td>0.116647</td>\n",
       "      <td>0.111874</td>\n",
       "      <td>0.115657</td>\n",
       "      <td>0.113502</td>\n",
       "      <td>0.104931</td>\n",
       "      <td>0.104030</td>\n",
       "      <td>0.104789</td>\n",
       "      <td>-38</td>\n",
       "      <td>-516</td>\n",
       "    </tr>\n",
       "    <tr>\n",
       "      <th>1</th>\n",
       "      <td>0.262143</td>\n",
       "      <td>0.253922</td>\n",
       "      <td>0.256896</td>\n",
       "      <td>0.260294</td>\n",
       "      <td>0.254070</td>\n",
       "      <td>0.261234</td>\n",
       "      <td>0.265178</td>\n",
       "      <td>0.268294</td>\n",
       "      <td>0.280731</td>\n",
       "      <td>0.290285</td>\n",
       "      <td>...</td>\n",
       "      <td>0.121235</td>\n",
       "      <td>0.115275</td>\n",
       "      <td>0.110587</td>\n",
       "      <td>0.111453</td>\n",
       "      <td>0.114556</td>\n",
       "      <td>0.108613</td>\n",
       "      <td>0.105503</td>\n",
       "      <td>0.108252</td>\n",
       "      <td>-36</td>\n",
       "      <td>-516</td>\n",
       "    </tr>\n",
       "    <tr>\n",
       "      <th>2</th>\n",
       "      <td>0.270031</td>\n",
       "      <td>0.271826</td>\n",
       "      <td>0.282452</td>\n",
       "      <td>0.276281</td>\n",
       "      <td>0.285322</td>\n",
       "      <td>0.300282</td>\n",
       "      <td>0.307268</td>\n",
       "      <td>0.295894</td>\n",
       "      <td>0.288382</td>\n",
       "      <td>0.307975</td>\n",
       "      <td>...</td>\n",
       "      <td>0.120943</td>\n",
       "      <td>0.114753</td>\n",
       "      <td>0.107939</td>\n",
       "      <td>0.111124</td>\n",
       "      <td>0.109730</td>\n",
       "      <td>0.105028</td>\n",
       "      <td>0.110412</td>\n",
       "      <td>0.115009</td>\n",
       "      <td>-34</td>\n",
       "      <td>-516</td>\n",
       "    </tr>\n",
       "    <tr>\n",
       "      <th>3</th>\n",
       "      <td>0.274932</td>\n",
       "      <td>0.268010</td>\n",
       "      <td>0.279422</td>\n",
       "      <td>0.283939</td>\n",
       "      <td>0.287064</td>\n",
       "      <td>0.294149</td>\n",
       "      <td>0.301576</td>\n",
       "      <td>0.301561</td>\n",
       "      <td>0.292915</td>\n",
       "      <td>0.296271</td>\n",
       "      <td>...</td>\n",
       "      <td>0.123692</td>\n",
       "      <td>0.121545</td>\n",
       "      <td>0.119733</td>\n",
       "      <td>0.122042</td>\n",
       "      <td>0.119663</td>\n",
       "      <td>0.115742</td>\n",
       "      <td>0.123059</td>\n",
       "      <td>0.128410</td>\n",
       "      <td>-32</td>\n",
       "      <td>-516</td>\n",
       "    </tr>\n",
       "    <tr>\n",
       "      <th>4</th>\n",
       "      <td>0.261806</td>\n",
       "      <td>0.260074</td>\n",
       "      <td>0.280358</td>\n",
       "      <td>0.296670</td>\n",
       "      <td>0.304425</td>\n",
       "      <td>0.294321</td>\n",
       "      <td>0.300976</td>\n",
       "      <td>0.303632</td>\n",
       "      <td>0.298022</td>\n",
       "      <td>0.310915</td>\n",
       "      <td>...</td>\n",
       "      <td>0.132134</td>\n",
       "      <td>0.132266</td>\n",
       "      <td>0.124586</td>\n",
       "      <td>0.125018</td>\n",
       "      <td>0.130221</td>\n",
       "      <td>0.126165</td>\n",
       "      <td>0.120978</td>\n",
       "      <td>0.122873</td>\n",
       "      <td>-30</td>\n",
       "      <td>-516</td>\n",
       "    </tr>\n",
       "    <tr>\n",
       "      <th>...</th>\n",
       "      <td>...</td>\n",
       "      <td>...</td>\n",
       "      <td>...</td>\n",
       "      <td>...</td>\n",
       "      <td>...</td>\n",
       "      <td>...</td>\n",
       "      <td>...</td>\n",
       "      <td>...</td>\n",
       "      <td>...</td>\n",
       "      <td>...</td>\n",
       "      <td>...</td>\n",
       "      <td>...</td>\n",
       "      <td>...</td>\n",
       "      <td>...</td>\n",
       "      <td>...</td>\n",
       "      <td>...</td>\n",
       "      <td>...</td>\n",
       "      <td>...</td>\n",
       "      <td>...</td>\n",
       "      <td>...</td>\n",
       "      <td>...</td>\n",
       "    </tr>\n",
       "    <tr>\n",
       "      <th>331</th>\n",
       "      <td>0.361509</td>\n",
       "      <td>0.351403</td>\n",
       "      <td>0.349895</td>\n",
       "      <td>0.354733</td>\n",
       "      <td>0.358172</td>\n",
       "      <td>0.341385</td>\n",
       "      <td>0.322885</td>\n",
       "      <td>0.302312</td>\n",
       "      <td>0.298153</td>\n",
       "      <td>0.298315</td>\n",
       "      <td>...</td>\n",
       "      <td>0.440938</td>\n",
       "      <td>0.448375</td>\n",
       "      <td>0.452538</td>\n",
       "      <td>0.449839</td>\n",
       "      <td>0.434168</td>\n",
       "      <td>0.426187</td>\n",
       "      <td>0.431805</td>\n",
       "      <td>0.435515</td>\n",
       "      <td>-6</td>\n",
       "      <td>-486</td>\n",
       "    </tr>\n",
       "    <tr>\n",
       "      <th>332</th>\n",
       "      <td>0.375064</td>\n",
       "      <td>0.361907</td>\n",
       "      <td>0.346038</td>\n",
       "      <td>0.341450</td>\n",
       "      <td>0.334026</td>\n",
       "      <td>0.329911</td>\n",
       "      <td>0.325099</td>\n",
       "      <td>0.317773</td>\n",
       "      <td>0.310814</td>\n",
       "      <td>0.305808</td>\n",
       "      <td>...</td>\n",
       "      <td>0.455078</td>\n",
       "      <td>0.452365</td>\n",
       "      <td>0.440305</td>\n",
       "      <td>0.439770</td>\n",
       "      <td>0.433648</td>\n",
       "      <td>0.429405</td>\n",
       "      <td>0.432621</td>\n",
       "      <td>0.428284</td>\n",
       "      <td>-4</td>\n",
       "      <td>-486</td>\n",
       "    </tr>\n",
       "    <tr>\n",
       "      <th>333</th>\n",
       "      <td>0.366758</td>\n",
       "      <td>0.370629</td>\n",
       "      <td>0.362103</td>\n",
       "      <td>0.360901</td>\n",
       "      <td>0.345829</td>\n",
       "      <td>0.324359</td>\n",
       "      <td>0.324675</td>\n",
       "      <td>0.318105</td>\n",
       "      <td>0.327720</td>\n",
       "      <td>0.326116</td>\n",
       "      <td>...</td>\n",
       "      <td>0.452617</td>\n",
       "      <td>0.453760</td>\n",
       "      <td>0.444677</td>\n",
       "      <td>0.434099</td>\n",
       "      <td>0.434208</td>\n",
       "      <td>0.440098</td>\n",
       "      <td>0.446444</td>\n",
       "      <td>0.443024</td>\n",
       "      <td>-2</td>\n",
       "      <td>-486</td>\n",
       "    </tr>\n",
       "    <tr>\n",
       "      <th>334</th>\n",
       "      <td>0.321572</td>\n",
       "      <td>0.310914</td>\n",
       "      <td>0.339352</td>\n",
       "      <td>0.354631</td>\n",
       "      <td>0.330111</td>\n",
       "      <td>0.315210</td>\n",
       "      <td>0.310199</td>\n",
       "      <td>0.294964</td>\n",
       "      <td>0.276517</td>\n",
       "      <td>0.289435</td>\n",
       "      <td>...</td>\n",
       "      <td>0.433352</td>\n",
       "      <td>0.437045</td>\n",
       "      <td>0.445241</td>\n",
       "      <td>0.452322</td>\n",
       "      <td>0.454956</td>\n",
       "      <td>0.439398</td>\n",
       "      <td>0.429112</td>\n",
       "      <td>0.428607</td>\n",
       "      <td>0</td>\n",
       "      <td>-486</td>\n",
       "    </tr>\n",
       "    <tr>\n",
       "      <th>335</th>\n",
       "      <td>0.340293</td>\n",
       "      <td>0.319841</td>\n",
       "      <td>0.326187</td>\n",
       "      <td>0.340180</td>\n",
       "      <td>0.329527</td>\n",
       "      <td>0.319612</td>\n",
       "      <td>0.314505</td>\n",
       "      <td>0.307303</td>\n",
       "      <td>0.296906</td>\n",
       "      <td>0.295772</td>\n",
       "      <td>...</td>\n",
       "      <td>0.455342</td>\n",
       "      <td>0.457397</td>\n",
       "      <td>0.447913</td>\n",
       "      <td>0.452856</td>\n",
       "      <td>0.457746</td>\n",
       "      <td>0.438860</td>\n",
       "      <td>0.426079</td>\n",
       "      <td>0.437370</td>\n",
       "      <td>2</td>\n",
       "      <td>-486</td>\n",
       "    </tr>\n",
       "  </tbody>\n",
       "</table>\n",
       "<p>336 rows × 781 columns</p>\n",
       "</div>"
      ],
      "text/plain": [
       "     2499.332520  2503.189515  2507.046510  2510.903505  2514.760500  \\\n",
       "0       0.243704     0.233024     0.229345     0.243829     0.249446   \n",
       "1       0.262143     0.253922     0.256896     0.260294     0.254070   \n",
       "2       0.270031     0.271826     0.282452     0.276281     0.285322   \n",
       "3       0.274932     0.268010     0.279422     0.283939     0.287064   \n",
       "4       0.261806     0.260074     0.280358     0.296670     0.304425   \n",
       "..           ...          ...          ...          ...          ...   \n",
       "331     0.361509     0.351403     0.349895     0.354733     0.358172   \n",
       "332     0.375064     0.361907     0.346038     0.341450     0.334026   \n",
       "333     0.366758     0.370629     0.362103     0.360901     0.345829   \n",
       "334     0.321572     0.310914     0.339352     0.354631     0.330111   \n",
       "335     0.340293     0.319841     0.326187     0.340180     0.329527   \n",
       "\n",
       "     2518.617495  2522.474490  2526.331485  2530.188480  2534.045475  ...  \\\n",
       "0       0.253125     0.266522     0.274338     0.276199     0.268497  ...   \n",
       "1       0.261234     0.265178     0.268294     0.280731     0.290285  ...   \n",
       "2       0.300282     0.307268     0.295894     0.288382     0.307975  ...   \n",
       "3       0.294149     0.301576     0.301561     0.292915     0.296271  ...   \n",
       "4       0.294321     0.300976     0.303632     0.298022     0.310915  ...   \n",
       "..           ...          ...          ...          ...          ...  ...   \n",
       "331     0.341385     0.322885     0.302312     0.298153     0.298315  ...   \n",
       "332     0.329911     0.325099     0.317773     0.310814     0.305808  ...   \n",
       "333     0.324359     0.324675     0.318105     0.327720     0.326116  ...   \n",
       "334     0.315210     0.310199     0.294964     0.276517     0.289435  ...   \n",
       "335     0.319612     0.314505     0.307303     0.296906     0.295772  ...   \n",
       "\n",
       "     5473.075741  5476.932736  5480.789732  5484.646727  5488.503722  \\\n",
       "0       0.123744     0.116647     0.111874     0.115657     0.113502   \n",
       "1       0.121235     0.115275     0.110587     0.111453     0.114556   \n",
       "2       0.120943     0.114753     0.107939     0.111124     0.109730   \n",
       "3       0.123692     0.121545     0.119733     0.122042     0.119663   \n",
       "4       0.132134     0.132266     0.124586     0.125018     0.130221   \n",
       "..           ...          ...          ...          ...          ...   \n",
       "331     0.440938     0.448375     0.452538     0.449839     0.434168   \n",
       "332     0.455078     0.452365     0.440305     0.439770     0.433648   \n",
       "333     0.452617     0.453760     0.444677     0.434099     0.434208   \n",
       "334     0.433352     0.437045     0.445241     0.452322     0.454956   \n",
       "335     0.455342     0.457397     0.447913     0.452856     0.457746   \n",
       "\n",
       "     5492.360717  5496.217712  5500.074707  map_x  map_y  \n",
       "0       0.104931     0.104030     0.104789    -38   -516  \n",
       "1       0.108613     0.105503     0.108252    -36   -516  \n",
       "2       0.105028     0.110412     0.115009    -34   -516  \n",
       "3       0.115742     0.123059     0.128410    -32   -516  \n",
       "4       0.126165     0.120978     0.122873    -30   -516  \n",
       "..           ...          ...          ...    ...    ...  \n",
       "331     0.426187     0.431805     0.435515     -6   -486  \n",
       "332     0.429405     0.432621     0.428284     -4   -486  \n",
       "333     0.440098     0.446444     0.443024     -2   -486  \n",
       "334     0.439398     0.429112     0.428607      0   -486  \n",
       "335     0.438860     0.426079     0.437370      2   -486  \n",
       "\n",
       "[336 rows x 781 columns]"
      ]
     },
     "execution_count": 5,
     "metadata": {},
     "output_type": "execute_result"
    }
   ],
   "source": [
    "# show your data\n",
    "da"
   ]
  },
  {
   "cell_type": "markdown",
   "id": "9c8ec7cd",
   "metadata": {},
   "source": [
    "The first row of our data contains the Raman shifts and the last two columns are map_x and map_y. \n",
    "\n",
    "We are going to arrange it."
   ]
  },
  {
   "cell_type": "markdown",
   "id": "7bb5b69b",
   "metadata": {},
   "source": [
    "## Preprocessing"
   ]
  },
  {
   "cell_type": "code",
   "execution_count": 7,
   "id": "e2757008",
   "metadata": {},
   "outputs": [],
   "source": [
    "da_data = da.iloc[:,0:-2].values.copy()\n",
    "ftir_mapx = da.iloc[:,-2].values.copy()\n",
    "ftir_mapy = da.iloc[:,-1].values.copy()\n",
    "raman_shifts = da.columns.values[:-2]\n",
    "raman_shifts =  np.round([float(i) for i in da.columns.values[:-2]],1)"
   ]
  },
  {
   "cell_type": "code",
   "execution_count": 10,
   "id": "b50958a3",
   "metadata": {},
   "outputs": [
    {
     "data": {
      "text/plain": [
       "<visualize.ShowSpectra at 0x26a55f0cdf0>"
      ]
     },
     "execution_count": 10,
     "metadata": {},
     "output_type": "execute_result"
    }
   ],
   "source": [
    "# run this cell to see all your spectra\n",
    "vis.ShowSpectra(da_data, sigma = raman_shifts)"
   ]
  },
  {
   "cell_type": "markdown",
   "id": "50f394f8",
   "metadata": {},
   "source": [
    "### Baseline Substraction\n",
    "\n",
    "Two options to substract the baseline "
   ]
  },
  {
   "cell_type": "markdown",
   "id": "59e6f902",
   "metadata": {},
   "source": [
    "#### 1st option"
   ]
  },
  {
   "cell_type": "code",
   "execution_count": null,
   "id": "9cfd36b1",
   "metadata": {},
   "outputs": [],
   "source": [
    "#  substract baseline : you have to modify lambda_value(smoothing parameter), p_value(the penalizing weighting factor)\n",
    "# and lambda1_value(the smoothing parameter for the first derivative of the residual).\n",
    "check_bline = vis.FindBaseline(da_data,sigma=raman_shifts)"
   ]
  },
  {
   "cell_type": "code",
   "execution_count": null,
   "id": "37a2f353",
   "metadata": {},
   "outputs": [],
   "source": [
    "# run to see chosen values\n",
    "print(f\"p: {check_bline.p_val:.2e}, lam: {check_bline.lam_val:.2e},lam1: {check_bline.lam1_val:.2e} \")"
   ]
  },
  {
   "cell_type": "code",
   "execution_count": null,
   "id": "5f37cc6c",
   "metadata": {},
   "outputs": [],
   "source": [
    "# calculate the basline for all spectrum\n",
    "baseline = cc.baseline_ials(da_data, p=check_bline.p_val, lam=check_bline.lam_val, lam1= check_bline.lam1_val)"
   ]
  },
  {
   "cell_type": "code",
   "execution_count": null,
   "id": "f1f5edf1",
   "metadata": {},
   "outputs": [],
   "source": [
    "# substraction\n",
    "db = da_data.copy()\n",
    "db.values = db.values - baseline"
   ]
  },
  {
   "cell_type": "markdown",
   "id": "f78ab23a",
   "metadata": {},
   "source": [
    "#### 2nd option"
   ]
  },
  {
   "cell_type": "code",
   "execution_count": 11,
   "id": "0db883ff",
   "metadata": {},
   "outputs": [],
   "source": [
    "check_bline = vis.FindBaseline1(da_data,sigma=raman_shifts)"
   ]
  },
  {
   "cell_type": "code",
   "execution_count": 12,
   "id": "2bebec12",
   "metadata": {},
   "outputs": [
    {
     "name": "stdout",
     "output_type": "stream",
     "text": [
      "lam: 3.23e+07\n"
     ]
    }
   ],
   "source": [
    "print(f\"lam: {check_bline.lam_val:.2e}\")"
   ]
  },
  {
   "cell_type": "code",
   "execution_count": 14,
   "id": "e0edf4ef",
   "metadata": {},
   "outputs": [],
   "source": [
    "# calculate the basline for all spectrum\n",
    "baseline = cc.baseline_arpls(da_data, lam=check_bline.lam_val)"
   ]
  },
  {
   "cell_type": "code",
   "execution_count": 15,
   "id": "916aef0e",
   "metadata": {},
   "outputs": [],
   "source": [
    "# substraction\n",
    "db = da_data.copy()\n",
    "db = db - baseline"
   ]
  },
  {
   "cell_type": "markdown",
   "id": "30313e13",
   "metadata": {},
   "source": [
    "### Normalization"
   ]
  },
  {
   "cell_type": "code",
   "execution_count": 16,
   "id": "9feced7c",
   "metadata": {},
   "outputs": [],
   "source": [
    "# choose normalize method you want to apply : min_max, l1, l2, max, area, robust_scale \n",
    "db -= np.min(db, axis=-1, keepdims=True)\n",
    "dn = pp.normalize(db, method=\"min_max\")"
   ]
  },
  {
   "cell_type": "markdown",
   "id": "83c07396",
   "metadata": {},
   "source": [
    "## Processing"
   ]
  },
  {
   "cell_type": "markdown",
   "id": "9afc1e5e",
   "metadata": {},
   "source": [
    "### PCA\n",
    "Before doing the PCA, you need to know your scan_shape. After that, you can replace it in the \"pp.svd_decomp\" . You can also changed the \"n_components\""
   ]
  },
  {
   "cell_type": "code",
   "execution_count": 17,
   "id": "647d8eb0",
   "metadata": {},
   "outputs": [],
   "source": [
    "# compute pca using svd decomposition\n",
    "dsvd ,var,score ,l= pp.svd_decomp(da_data,components_sigma=raman_shifts, n_components=10, visualize_clean=1, visualize_components=1,visualize_err=1,scanshape=(16,21))"
   ]
  },
  {
   "cell_type": "markdown",
   "id": "5b6e0efa",
   "metadata": {},
   "source": [
    "### NMF\n",
    "\n",
    "The same thing for NMF decompostion"
   ]
  },
  {
   "cell_type": "code",
   "execution_count": 19,
   "id": "3fccdb17",
   "metadata": {},
   "outputs": [
    {
     "name": "stdout",
     "output_type": "stream",
     "text": [
      "Error increased above fractionalctol_increase (C iter). Exiting\n"
     ]
    }
   ],
   "source": [
    "# Run this cell to see pure spectrum and pure contribution\n",
    "dnm = proc.deconvolve_nmf(da_data,components_sigma=raman_shifts, n_components=4, visualize_components=1, visualize_compare=1, visualize_err=1,scanshape=(16,21))"
   ]
  }
 ],
 "metadata": {
  "kernelspec": {
   "display_name": "Python 3 (ipykernel)",
   "language": "python",
   "name": "python3"
  },
  "language_info": {
   "codemirror_mode": {
    "name": "ipython",
    "version": 3
   },
   "file_extension": ".py",
   "mimetype": "text/x-python",
   "name": "python",
   "nbconvert_exporter": "python",
   "pygments_lexer": "ipython3",
   "version": "3.9.12"
  }
 },
 "nbformat": 4,
 "nbformat_minor": 5
}
