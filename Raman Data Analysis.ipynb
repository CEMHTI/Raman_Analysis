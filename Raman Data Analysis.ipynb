{
 "cells": [
  {
   "cell_type": "markdown",
   "id": "43bdeeb2",
   "metadata": {},
   "source": [
    "Import all modules you'll need. if you get an error like : no module \"module_name\" found; just run \"pip install module_name\" in empty cell."
   ]
  },
  {
   "cell_type": "code",
   "execution_count": 1,
   "id": "7a7b6f3c",
   "metadata": {},
   "outputs": [],
   "source": [
    "%matplotlib Qt\n",
    "%load_ext autoreload \n",
    "# to automaticaly reload all the modules that have been modified\n",
    "%autoreload 2 \n",
    "import os\n",
    "from glob import glob\n",
    "import numpy as np\n",
    "import xarray as xr\n",
    "import matplotlib.pyplot as plt\n",
    "from scipy import interpolate\n",
    "from sklearn.model_selection import train_test_split, cross_val_score, GridSearchCV, ShuffleSplit\n",
    "from sklearn import svm, kernel_ridge, metrics, preprocessing\n",
    "from PIL import Image, ExifTags, ImageFile\n",
    "import visualize as vis\n",
    "import preprocessing as pp\n",
    "import processing as proc\n",
    "import calculate as cc\n",
    "import correction as corr\n",
    "from read_WDF import read_WDF, get_exif\n",
    "import warnings\n",
    "warnings.filterwarnings('ignore')"
   ]
  },
  {
   "cell_type": "markdown",
   "id": "d7798235",
   "metadata": {},
   "source": [
    "### Reading\n",
    "\n",
    "In os.chdir, put the enplacement of your .wdf file and run the cell to get all your wdf files."
   ]
  },
  {
   "cell_type": "code",
   "execution_count": 2,
   "id": "e1412121",
   "metadata": {},
   "outputs": [
    {
     "name": "stdout",
     "output_type": "stream",
     "text": [
      "0 )  10nA_5h_obj10.wdf\n",
      "1 )  800C_355nm.wdf\n",
      "2 )  bida-a_pt1.wdf\n",
      "3 )  bida-a_pt2.wdf\n",
      "4 )  bida-a_pt3.wdf\n",
      "5 )  bida-a_pt4.wdf\n",
      "6 )  bida-a_pt5.wdf\n",
      "7 )  B_carto_rayon_633nm_50%.wdf\n",
      "8 )  Ca675A325_514nm.wdf\n",
      "9 )  carto_10238_20x_HD1.wdf\n",
      "10 )  carto_10238_20x_tr.wdf\n",
      "11 )  carto_10291.wdf\n",
      "12 )  carto_50x-bacteries-stramline.wdf\n",
      "13 )  Carto_plaque_M3C0_7x7cm.wdf\n",
      "14 )  cit-ACP1_chauffe_25-400°C_488nm_1-34sp.wdf\n",
      "15 )  depth_Raoul.wdf\n",
      "16 )  line.wdf\n",
      "17 )  mapping.wdf\n",
      "18 )  nax31_C_zone3_carto100x.wdf\n",
      "19 )  ref-big-carto_633nm-50�-1_CCR.wdf\n",
      "20 )  ref-big-carto_633nm-50�-1_CCR_Copy1.wdf\n",
      "21 )  silice_LR.wdf\n",
      "22 )  Spectre_M3C0_514nm.wdf\n",
      "23 )  Streamline.wdf\n",
      "24 )  test.wdf\n",
      "25 )  UO2 vierge LD2600 633 VV_point.wdf\n",
      "26 )  UO2 vierge LD2600 633 VV_point_1st_try.wdf\n",
      "27 )  UO2 vierge LD2600 633 VV_point_Copy1.wdf\n",
      "28 )  UO2 vierge LD2600 633 VV_point_Copy2nd.wdf\n",
      "29 )  UO2 vierge LD2600 633 VV_point_grande carte.wdf\n",
      "30 )  UO2 vierge LD2600 633 VV_streamline.wdf\n",
      "31 )  UO2 vierge LD2600 633 VV_streamspot.wdf\n",
      "32 )  UO2 vierge LD2600 633 VV_streamspot_Mod.wdf\n",
      "33 )  UO2_LD2-600_Olga_map-Pelletron.wdf\n",
      "34 )  UO2_LD2-600_Olga_map-Pelletron_Copy1.wdf\n",
      "35 )  UO2_LD2-600_Olga_map-Pelletron_Copy2.wdf\n",
      "36 )  YG2UCO15_carto.wdf\n"
     ]
    }
   ],
   "source": [
    "os.chdir('C:/Users/raoul.missodey/Desktop/Code_python')\n",
    "files = glob('*.wdf')\n",
    "for i, j in enumerate(files):\n",
    "    print(i, ') ', j)"
   ]
  },
  {
   "cell_type": "code",
   "execution_count": 3,
   "id": "aeae7e99",
   "metadata": {},
   "outputs": [],
   "source": [
    "filename = files[33] # choose the number of .wdf file you want to use.\n",
    "# load the file\n",
    "da, img = read_WDF(filename, verbose=0) # verbose = 1 or true to have all information about your file."
   ]
  },
  {
   "cell_type": "code",
   "execution_count": 4,
   "id": "5f872892",
   "metadata": {},
   "outputs": [
    {
     "data": {
      "text/html": [
       "<div><svg style=\"position: absolute; width: 0; height: 0; overflow: hidden\">\n",
       "<defs>\n",
       "<symbol id=\"icon-database\" viewBox=\"0 0 32 32\">\n",
       "<path d=\"M16 0c-8.837 0-16 2.239-16 5v4c0 2.761 7.163 5 16 5s16-2.239 16-5v-4c0-2.761-7.163-5-16-5z\"></path>\n",
       "<path d=\"M16 17c-8.837 0-16-2.239-16-5v6c0 2.761 7.163 5 16 5s16-2.239 16-5v-6c0 2.761-7.163 5-16 5z\"></path>\n",
       "<path d=\"M16 26c-8.837 0-16-2.239-16-5v6c0 2.761 7.163 5 16 5s16-2.239 16-5v-6c0 2.761-7.163 5-16 5z\"></path>\n",
       "</symbol>\n",
       "<symbol id=\"icon-file-text2\" viewBox=\"0 0 32 32\">\n",
       "<path d=\"M28.681 7.159c-0.694-0.947-1.662-2.053-2.724-3.116s-2.169-2.030-3.116-2.724c-1.612-1.182-2.393-1.319-2.841-1.319h-15.5c-1.378 0-2.5 1.121-2.5 2.5v27c0 1.378 1.122 2.5 2.5 2.5h23c1.378 0 2.5-1.122 2.5-2.5v-19.5c0-0.448-0.137-1.23-1.319-2.841zM24.543 5.457c0.959 0.959 1.712 1.825 2.268 2.543h-4.811v-4.811c0.718 0.556 1.584 1.309 2.543 2.268zM28 29.5c0 0.271-0.229 0.5-0.5 0.5h-23c-0.271 0-0.5-0.229-0.5-0.5v-27c0-0.271 0.229-0.5 0.5-0.5 0 0 15.499-0 15.5 0v7c0 0.552 0.448 1 1 1h7v19.5z\"></path>\n",
       "<path d=\"M23 26h-14c-0.552 0-1-0.448-1-1s0.448-1 1-1h14c0.552 0 1 0.448 1 1s-0.448 1-1 1z\"></path>\n",
       "<path d=\"M23 22h-14c-0.552 0-1-0.448-1-1s0.448-1 1-1h14c0.552 0 1 0.448 1 1s-0.448 1-1 1z\"></path>\n",
       "<path d=\"M23 18h-14c-0.552 0-1-0.448-1-1s0.448-1 1-1h14c0.552 0 1 0.448 1 1s-0.448 1-1 1z\"></path>\n",
       "</symbol>\n",
       "</defs>\n",
       "</svg>\n",
       "<style>/* CSS stylesheet for displaying xarray objects in jupyterlab.\n",
       " *\n",
       " */\n",
       "\n",
       ":root {\n",
       "  --xr-font-color0: var(--jp-content-font-color0, rgba(0, 0, 0, 1));\n",
       "  --xr-font-color2: var(--jp-content-font-color2, rgba(0, 0, 0, 0.54));\n",
       "  --xr-font-color3: var(--jp-content-font-color3, rgba(0, 0, 0, 0.38));\n",
       "  --xr-border-color: var(--jp-border-color2, #e0e0e0);\n",
       "  --xr-disabled-color: var(--jp-layout-color3, #bdbdbd);\n",
       "  --xr-background-color: var(--jp-layout-color0, white);\n",
       "  --xr-background-color-row-even: var(--jp-layout-color1, white);\n",
       "  --xr-background-color-row-odd: var(--jp-layout-color2, #eeeeee);\n",
       "}\n",
       "\n",
       "html[theme=dark],\n",
       "body.vscode-dark {\n",
       "  --xr-font-color0: rgba(255, 255, 255, 1);\n",
       "  --xr-font-color2: rgba(255, 255, 255, 0.54);\n",
       "  --xr-font-color3: rgba(255, 255, 255, 0.38);\n",
       "  --xr-border-color: #1F1F1F;\n",
       "  --xr-disabled-color: #515151;\n",
       "  --xr-background-color: #111111;\n",
       "  --xr-background-color-row-even: #111111;\n",
       "  --xr-background-color-row-odd: #313131;\n",
       "}\n",
       "\n",
       ".xr-wrap {\n",
       "  display: block !important;\n",
       "  min-width: 300px;\n",
       "  max-width: 700px;\n",
       "}\n",
       "\n",
       ".xr-text-repr-fallback {\n",
       "  /* fallback to plain text repr when CSS is not injected (untrusted notebook) */\n",
       "  display: none;\n",
       "}\n",
       "\n",
       ".xr-header {\n",
       "  padding-top: 6px;\n",
       "  padding-bottom: 6px;\n",
       "  margin-bottom: 4px;\n",
       "  border-bottom: solid 1px var(--xr-border-color);\n",
       "}\n",
       "\n",
       ".xr-header > div,\n",
       ".xr-header > ul {\n",
       "  display: inline;\n",
       "  margin-top: 0;\n",
       "  margin-bottom: 0;\n",
       "}\n",
       "\n",
       ".xr-obj-type,\n",
       ".xr-array-name {\n",
       "  margin-left: 2px;\n",
       "  margin-right: 10px;\n",
       "}\n",
       "\n",
       ".xr-obj-type {\n",
       "  color: var(--xr-font-color2);\n",
       "}\n",
       "\n",
       ".xr-sections {\n",
       "  padding-left: 0 !important;\n",
       "  display: grid;\n",
       "  grid-template-columns: 150px auto auto 1fr 20px 20px;\n",
       "}\n",
       "\n",
       ".xr-section-item {\n",
       "  display: contents;\n",
       "}\n",
       "\n",
       ".xr-section-item input {\n",
       "  display: none;\n",
       "}\n",
       "\n",
       ".xr-section-item input + label {\n",
       "  color: var(--xr-disabled-color);\n",
       "}\n",
       "\n",
       ".xr-section-item input:enabled + label {\n",
       "  cursor: pointer;\n",
       "  color: var(--xr-font-color2);\n",
       "}\n",
       "\n",
       ".xr-section-item input:enabled + label:hover {\n",
       "  color: var(--xr-font-color0);\n",
       "}\n",
       "\n",
       ".xr-section-summary {\n",
       "  grid-column: 1;\n",
       "  color: var(--xr-font-color2);\n",
       "  font-weight: 500;\n",
       "}\n",
       "\n",
       ".xr-section-summary > span {\n",
       "  display: inline-block;\n",
       "  padding-left: 0.5em;\n",
       "}\n",
       "\n",
       ".xr-section-summary-in:disabled + label {\n",
       "  color: var(--xr-font-color2);\n",
       "}\n",
       "\n",
       ".xr-section-summary-in + label:before {\n",
       "  display: inline-block;\n",
       "  content: '►';\n",
       "  font-size: 11px;\n",
       "  width: 15px;\n",
       "  text-align: center;\n",
       "}\n",
       "\n",
       ".xr-section-summary-in:disabled + label:before {\n",
       "  color: var(--xr-disabled-color);\n",
       "}\n",
       "\n",
       ".xr-section-summary-in:checked + label:before {\n",
       "  content: '▼';\n",
       "}\n",
       "\n",
       ".xr-section-summary-in:checked + label > span {\n",
       "  display: none;\n",
       "}\n",
       "\n",
       ".xr-section-summary,\n",
       ".xr-section-inline-details {\n",
       "  padding-top: 4px;\n",
       "  padding-bottom: 4px;\n",
       "}\n",
       "\n",
       ".xr-section-inline-details {\n",
       "  grid-column: 2 / -1;\n",
       "}\n",
       "\n",
       ".xr-section-details {\n",
       "  display: none;\n",
       "  grid-column: 1 / -1;\n",
       "  margin-bottom: 5px;\n",
       "}\n",
       "\n",
       ".xr-section-summary-in:checked ~ .xr-section-details {\n",
       "  display: contents;\n",
       "}\n",
       "\n",
       ".xr-array-wrap {\n",
       "  grid-column: 1 / -1;\n",
       "  display: grid;\n",
       "  grid-template-columns: 20px auto;\n",
       "}\n",
       "\n",
       ".xr-array-wrap > label {\n",
       "  grid-column: 1;\n",
       "  vertical-align: top;\n",
       "}\n",
       "\n",
       ".xr-preview {\n",
       "  color: var(--xr-font-color3);\n",
       "}\n",
       "\n",
       ".xr-array-preview,\n",
       ".xr-array-data {\n",
       "  padding: 0 5px !important;\n",
       "  grid-column: 2;\n",
       "}\n",
       "\n",
       ".xr-array-data,\n",
       ".xr-array-in:checked ~ .xr-array-preview {\n",
       "  display: none;\n",
       "}\n",
       "\n",
       ".xr-array-in:checked ~ .xr-array-data,\n",
       ".xr-array-preview {\n",
       "  display: inline-block;\n",
       "}\n",
       "\n",
       ".xr-dim-list {\n",
       "  display: inline-block !important;\n",
       "  list-style: none;\n",
       "  padding: 0 !important;\n",
       "  margin: 0;\n",
       "}\n",
       "\n",
       ".xr-dim-list li {\n",
       "  display: inline-block;\n",
       "  padding: 0;\n",
       "  margin: 0;\n",
       "}\n",
       "\n",
       ".xr-dim-list:before {\n",
       "  content: '(';\n",
       "}\n",
       "\n",
       ".xr-dim-list:after {\n",
       "  content: ')';\n",
       "}\n",
       "\n",
       ".xr-dim-list li:not(:last-child):after {\n",
       "  content: ',';\n",
       "  padding-right: 5px;\n",
       "}\n",
       "\n",
       ".xr-has-index {\n",
       "  font-weight: bold;\n",
       "}\n",
       "\n",
       ".xr-var-list,\n",
       ".xr-var-item {\n",
       "  display: contents;\n",
       "}\n",
       "\n",
       ".xr-var-item > div,\n",
       ".xr-var-item label,\n",
       ".xr-var-item > .xr-var-name span {\n",
       "  background-color: var(--xr-background-color-row-even);\n",
       "  margin-bottom: 0;\n",
       "}\n",
       "\n",
       ".xr-var-item > .xr-var-name:hover span {\n",
       "  padding-right: 5px;\n",
       "}\n",
       "\n",
       ".xr-var-list > li:nth-child(odd) > div,\n",
       ".xr-var-list > li:nth-child(odd) > label,\n",
       ".xr-var-list > li:nth-child(odd) > .xr-var-name span {\n",
       "  background-color: var(--xr-background-color-row-odd);\n",
       "}\n",
       "\n",
       ".xr-var-name {\n",
       "  grid-column: 1;\n",
       "}\n",
       "\n",
       ".xr-var-dims {\n",
       "  grid-column: 2;\n",
       "}\n",
       "\n",
       ".xr-var-dtype {\n",
       "  grid-column: 3;\n",
       "  text-align: right;\n",
       "  color: var(--xr-font-color2);\n",
       "}\n",
       "\n",
       ".xr-var-preview {\n",
       "  grid-column: 4;\n",
       "}\n",
       "\n",
       ".xr-var-name,\n",
       ".xr-var-dims,\n",
       ".xr-var-dtype,\n",
       ".xr-preview,\n",
       ".xr-attrs dt {\n",
       "  white-space: nowrap;\n",
       "  overflow: hidden;\n",
       "  text-overflow: ellipsis;\n",
       "  padding-right: 10px;\n",
       "}\n",
       "\n",
       ".xr-var-name:hover,\n",
       ".xr-var-dims:hover,\n",
       ".xr-var-dtype:hover,\n",
       ".xr-attrs dt:hover {\n",
       "  overflow: visible;\n",
       "  width: auto;\n",
       "  z-index: 1;\n",
       "}\n",
       "\n",
       ".xr-var-attrs,\n",
       ".xr-var-data {\n",
       "  display: none;\n",
       "  background-color: var(--xr-background-color) !important;\n",
       "  padding-bottom: 5px !important;\n",
       "}\n",
       "\n",
       ".xr-var-attrs-in:checked ~ .xr-var-attrs,\n",
       ".xr-var-data-in:checked ~ .xr-var-data {\n",
       "  display: block;\n",
       "}\n",
       "\n",
       ".xr-var-data > table {\n",
       "  float: right;\n",
       "}\n",
       "\n",
       ".xr-var-name span,\n",
       ".xr-var-data,\n",
       ".xr-attrs {\n",
       "  padding-left: 25px !important;\n",
       "}\n",
       "\n",
       ".xr-attrs,\n",
       ".xr-var-attrs,\n",
       ".xr-var-data {\n",
       "  grid-column: 1 / -1;\n",
       "}\n",
       "\n",
       "dl.xr-attrs {\n",
       "  padding: 0;\n",
       "  margin: 0;\n",
       "  display: grid;\n",
       "  grid-template-columns: 125px auto;\n",
       "}\n",
       "\n",
       ".xr-attrs dt,\n",
       ".xr-attrs dd {\n",
       "  padding: 0;\n",
       "  margin: 0;\n",
       "  float: left;\n",
       "  padding-right: 10px;\n",
       "  width: auto;\n",
       "}\n",
       "\n",
       ".xr-attrs dt {\n",
       "  font-weight: normal;\n",
       "  grid-column: 1;\n",
       "}\n",
       "\n",
       ".xr-attrs dt:hover span {\n",
       "  display: inline-block;\n",
       "  background: var(--xr-background-color);\n",
       "  padding-right: 10px;\n",
       "}\n",
       "\n",
       ".xr-attrs dd {\n",
       "  grid-column: 2;\n",
       "  white-space: pre-wrap;\n",
       "  word-break: break-all;\n",
       "}\n",
       "\n",
       ".xr-icon-database,\n",
       ".xr-icon-file-text2 {\n",
       "  display: inline-block;\n",
       "  vertical-align: middle;\n",
       "  width: 1em;\n",
       "  height: 1.5em !important;\n",
       "  stroke-width: 0;\n",
       "  stroke: currentColor;\n",
       "  fill: currentColor;\n",
       "}\n",
       "</style><pre class='xr-text-repr-fallback'>&lt;xarray.DataArray (points: 7921, RamanShifts: 393)&gt;\n",
       "array([[684.0734 , 667.896  , 642.59595, ..., 492.60477, 524.8775 ,\n",
       "        482.87344],\n",
       "       [584.6979 , 605.49744, 587.12006, ..., 415.86734, 406.0373 ,\n",
       "        430.8717 ],\n",
       "       [605.49744, 628.60803, 591.74304, ..., 381.21173, 396.13397,\n",
       "        344.2021 ],\n",
       "       ...,\n",
       "       [446.03436, 462.21176, 436.87277, ..., 250.01549, 259.96292,\n",
       "        264.96133],\n",
       "       [446.03436, 483.0113 , 427.6268 , ..., 294.5727 , 289.67294,\n",
       "        264.96133],\n",
       "       [485.32236, 506.1219 , 499.28317, ..., 279.7203 , 302.05215,\n",
       "        264.96133]], dtype=float32)\n",
       "Coordinates:\n",
       "    X        (points) float64 35.0 35.4 35.8 36.2 36.6 ... 69.0 69.4 69.8 70.2\n",
       "    Y        (points) float64 10.0 10.0 10.0 10.0 10.0 ... 45.2 45.2 45.2 45.2\n",
       "    Time     (points) datetime64[ns] 2015-12-02T17:00:51 ... 2015-12-03T04:38:18\n",
       "    shifts   (RamanShifts) float32 344.8 345.9 347.0 348.1 ... 752.3 753.3 754.3\n",
       "Dimensions without coordinates: points, RamanShifts\n",
       "Attributes:\n",
       "    WdfFlag:             WdfXYXY\n",
       "    PointsPerSpectrum:   393\n",
       "    Capacity:            7921\n",
       "    Count:               7921\n",
       "    AccumulationCount:   0\n",
       "    YlistLength:         1\n",
       "    XlistLength:         393\n",
       "    DataOriginCount:     5\n",
       "    ApplicationName:     WiRE\n",
       "    ApplicationVersion:  3.0.0 build 0\n",
       "    ScanType:            Static\n",
       "    MeasurementType:     Map\n",
       "    StartTime:           2015-12-02 18:00:46\n",
       "    EndTime:             2015-12-03 05:38:19\n",
       "    SpectralUnits:       Counts\n",
       "    LaserWaveLength:     633.0\n",
       "    Title:               Simple mapping measurement 11\n",
       "    XlistDataType:       Frequency\n",
       "    XlistDataUnits:      RamanShift\n",
       "    YlistDataType:       SpatialY\n",
       "    YlistDataUnits:      Pixels\n",
       "    MapAreaType:         InvertedRows\n",
       "    InitialCoordinates:  [35.   10.   -8.28]\n",
       "    StepSizes:           [0.4 0.4 1. ]\n",
       "    NbSteps:             [89 89  1]\n",
       "    LineFocusSize:       0\n",
       "    FileSize:            12.3MB\n",
       "    ScanShape:           (89, 89)\n",
       "    ColCoord:            X\n",
       "    RowCoord:            Y</pre><div class='xr-wrap' style='display:none'><div class='xr-header'><div class='xr-obj-type'>xarray.DataArray</div><div class='xr-array-name'></div><ul class='xr-dim-list'><li><span>points</span>: 7921</li><li><span>RamanShifts</span>: 393</li></ul></div><ul class='xr-sections'><li class='xr-section-item'><div class='xr-array-wrap'><input id='section-2ce79686-4886-49ae-9b37-2e5f2220e88d' class='xr-array-in' type='checkbox' checked><label for='section-2ce79686-4886-49ae-9b37-2e5f2220e88d' title='Show/hide data repr'><svg class='icon xr-icon-database'><use xlink:href='#icon-database'></use></svg></label><div class='xr-array-preview xr-preview'><span>684.1 667.9 642.6 689.0 622.0 707.7 ... 254.9 287.1 279.7 302.1 265.0</span></div><div class='xr-array-data'><pre>array([[684.0734 , 667.896  , 642.59595, ..., 492.60477, 524.8775 ,\n",
       "        482.87344],\n",
       "       [584.6979 , 605.49744, 587.12006, ..., 415.86734, 406.0373 ,\n",
       "        430.8717 ],\n",
       "       [605.49744, 628.60803, 591.74304, ..., 381.21173, 396.13397,\n",
       "        344.2021 ],\n",
       "       ...,\n",
       "       [446.03436, 462.21176, 436.87277, ..., 250.01549, 259.96292,\n",
       "        264.96133],\n",
       "       [446.03436, 483.0113 , 427.6268 , ..., 294.5727 , 289.67294,\n",
       "        264.96133],\n",
       "       [485.32236, 506.1219 , 499.28317, ..., 279.7203 , 302.05215,\n",
       "        264.96133]], dtype=float32)</pre></div></div></li><li class='xr-section-item'><input id='section-1d084922-7667-45d8-9119-c143b85c4e68' class='xr-section-summary-in' type='checkbox'  checked><label for='section-1d084922-7667-45d8-9119-c143b85c4e68' class='xr-section-summary' >Coordinates: <span>(4)</span></label><div class='xr-section-inline-details'></div><div class='xr-section-details'><ul class='xr-var-list'><li class='xr-var-item'><div class='xr-var-name'><span>X</span></div><div class='xr-var-dims'>(points)</div><div class='xr-var-dtype'>float64</div><div class='xr-var-preview xr-preview'>35.0 35.4 35.8 ... 69.4 69.8 70.2</div><input id='attrs-b2b9999d-fbad-4318-a051-67b14a786cb3' class='xr-var-attrs-in' type='checkbox' ><label for='attrs-b2b9999d-fbad-4318-a051-67b14a786cb3' title='Show/Hide attributes'><svg class='icon xr-icon-file-text2'><use xlink:href='#icon-file-text2'></use></svg></label><input id='data-7381d671-0662-4d8f-8231-e5b40f5e4d0a' class='xr-var-data-in' type='checkbox'><label for='data-7381d671-0662-4d8f-8231-e5b40f5e4d0a' title='Show/Hide data repr'><svg class='icon xr-icon-database'><use xlink:href='#icon-database'></use></svg></label><div class='xr-var-attrs'><dl class='xr-attrs'><dt><span>units :</span></dt><dd>micron</dd></dl></div><div class='xr-var-data'><pre>array([35. , 35.4, 35.8, ..., 69.4, 69.8, 70.2])</pre></div></li><li class='xr-var-item'><div class='xr-var-name'><span>Y</span></div><div class='xr-var-dims'>(points)</div><div class='xr-var-dtype'>float64</div><div class='xr-var-preview xr-preview'>10.0 10.0 10.0 ... 45.2 45.2 45.2</div><input id='attrs-255322f1-b56c-423a-972e-d6d4a62b618c' class='xr-var-attrs-in' type='checkbox' ><label for='attrs-255322f1-b56c-423a-972e-d6d4a62b618c' title='Show/Hide attributes'><svg class='icon xr-icon-file-text2'><use xlink:href='#icon-file-text2'></use></svg></label><input id='data-717cc979-ba7d-4588-8bf8-a9495208f508' class='xr-var-data-in' type='checkbox'><label for='data-717cc979-ba7d-4588-8bf8-a9495208f508' title='Show/Hide data repr'><svg class='icon xr-icon-database'><use xlink:href='#icon-database'></use></svg></label><div class='xr-var-attrs'><dl class='xr-attrs'><dt><span>units :</span></dt><dd>micron</dd></dl></div><div class='xr-var-data'><pre>array([10. , 10. , 10. , ..., 45.2, 45.2, 45.2])</pre></div></li><li class='xr-var-item'><div class='xr-var-name'><span>Time</span></div><div class='xr-var-dims'>(points)</div><div class='xr-var-dtype'>datetime64[ns]</div><div class='xr-var-preview xr-preview'>2015-12-02T17:00:51 ... 2015-12-...</div><input id='attrs-6b782509-ed7e-47f2-b16a-ac551d08596c' class='xr-var-attrs-in' type='checkbox' ><label for='attrs-6b782509-ed7e-47f2-b16a-ac551d08596c' title='Show/Hide attributes'><svg class='icon xr-icon-file-text2'><use xlink:href='#icon-file-text2'></use></svg></label><input id='data-0b3742b2-335f-46c0-8c37-8011259b0912' class='xr-var-data-in' type='checkbox'><label for='data-0b3742b2-335f-46c0-8c37-8011259b0912' title='Show/Hide data repr'><svg class='icon xr-icon-database'><use xlink:href='#icon-database'></use></svg></label><div class='xr-var-attrs'><dl class='xr-attrs'><dt><span>units :</span></dt><dd>filetime</dd></dl></div><div class='xr-var-data'><pre>array([&#x27;2015-12-02T17:00:51.000000000&#x27;, &#x27;2015-12-02T17:00:57.000000000&#x27;,\n",
       "       &#x27;2015-12-02T17:01:02.000000000&#x27;, ...,\n",
       "       &#x27;2015-12-03T04:38:08.000000000&#x27;, &#x27;2015-12-03T04:38:13.000000000&#x27;,\n",
       "       &#x27;2015-12-03T04:38:18.000000000&#x27;], dtype=&#x27;datetime64[ns]&#x27;)</pre></div></li><li class='xr-var-item'><div class='xr-var-name'><span>shifts</span></div><div class='xr-var-dims'>(RamanShifts)</div><div class='xr-var-dtype'>float32</div><div class='xr-var-preview xr-preview'>344.8 345.9 347.0 ... 753.3 754.3</div><input id='attrs-73d66415-a7fa-4f2f-8841-6c68996bf1e9' class='xr-var-attrs-in' type='checkbox' ><label for='attrs-73d66415-a7fa-4f2f-8841-6c68996bf1e9' title='Show/Hide attributes'><svg class='icon xr-icon-file-text2'><use xlink:href='#icon-file-text2'></use></svg></label><input id='data-b1770b3b-262f-40be-b654-c229bd86fec8' class='xr-var-data-in' type='checkbox'><label for='data-b1770b3b-262f-40be-b654-c229bd86fec8' title='Show/Hide data repr'><svg class='icon xr-icon-database'><use xlink:href='#icon-database'></use></svg></label><div class='xr-var-attrs'><dl class='xr-attrs'><dt><span>units :</span></dt><dd>1/cm</dd></dl></div><div class='xr-var-data'><pre>array([344.8493 , 345.93106, 347.01263, 348.09396, 349.1751 , 350.25604,\n",
       "       351.3368 , 352.4173 , 353.49762, 354.57776, 355.65765, 356.7374 ,\n",
       "       357.8169 , 358.8962 , 359.9753 , 361.0542 , 362.1329 , 363.2114 ,\n",
       "       364.28967, 365.36777, 366.44565, 367.52332, 368.6008 , 369.67807,\n",
       "       370.75513, 371.832  , 372.90866, 373.98514, 375.0614 , 376.13745,\n",
       "       377.21332, 378.28897, 379.3644 , 380.43967, 381.5147 , 382.58957,\n",
       "       383.6642 , 384.73868, 385.8129 , 386.88696, 387.9608 , 389.03445,\n",
       "       390.10788, 391.18112, 392.25415, 393.327  , 394.39966, 395.47208,\n",
       "       396.5443 , 397.61636, 398.6882 , 399.75986, 400.8313 , 401.90253,\n",
       "       402.97357, 404.0444 , 405.11505, 406.18552, 407.25577, 408.3258 ,\n",
       "       409.39566, 410.4653 , 411.53476, 412.604  , 413.67307, 414.74194,\n",
       "       415.81058, 416.87906, 417.94733, 419.01538, 420.08325, 421.15094,\n",
       "       422.2184 , 423.28568, 424.35278, 425.41965, 426.48636, 427.55283,\n",
       "       428.61914, 429.68524, 430.75113, 431.81686, 432.88235, 433.9477 ,\n",
       "       435.01282, 436.07773, 437.14246, 438.207  , 439.27133, 440.33548,\n",
       "       441.39944, 442.4632 , 443.52676, 444.59012, 445.6533 , 446.71628,\n",
       "       447.77905, 448.84164, 449.90405, 450.96625, 452.02826, 453.0901 ,\n",
       "       454.1517 , 455.21313, 456.27438, 457.33545, 458.3963 , 459.45694,\n",
       "       460.51743, 461.5777 , 462.6378 , 463.69766, 464.7574 , 465.8169 ,\n",
       "       466.8762 , 467.93533, 468.99426, 470.053  , 471.11157, 472.16992,\n",
       "...\n",
       "       636.04694, 637.0766 , 638.10614, 639.13544, 640.1646 , 641.1936 ,\n",
       "       642.2224 , 643.25104, 644.27954, 645.3078 , 646.33594, 647.3639 ,\n",
       "       648.39166, 649.41925, 650.44666, 651.4739 , 652.501  , 653.5279 ,\n",
       "       654.55457, 655.5811 , 656.60754, 657.6337 , 658.6597 , 659.6856 ,\n",
       "       660.7113 , 661.73676, 662.7621 , 663.7873 , 664.81226, 665.83704,\n",
       "       666.8617 , 667.88617, 668.91046, 669.9346 , 670.9585 , 671.9823 ,\n",
       "       673.00586, 674.0293 , 675.05255, 676.0756 , 677.0985 , 678.1212 ,\n",
       "       679.1438 , 680.16614, 681.18835, 682.2104 , 683.23224, 684.2539 ,\n",
       "       685.27545, 686.29675, 687.31793, 688.3389 , 689.35974, 690.3804 ,\n",
       "       691.4008 , 692.42114, 693.4413 , 694.4612 , 695.48096, 696.50055,\n",
       "       697.51996, 698.53925, 699.5583 , 700.5772 , 701.59595, 702.6145 ,\n",
       "       703.6329 , 704.65106, 705.66907, 706.68695, 707.7046 , 708.7221 ,\n",
       "       709.73944, 710.7566 , 711.7736 , 712.7904 , 713.807  , 714.8235 ,\n",
       "       715.8398 , 716.8559 , 717.8718 , 718.8876 , 719.90314, 720.9186 ,\n",
       "       721.9338 , 722.94885, 723.96375, 724.97845, 725.993  , 727.0073 ,\n",
       "       728.0215 , 729.0355 , 730.0493 , 731.063  , 732.0765 , 733.0897 ,\n",
       "       734.10284, 735.11584, 736.1286 , 737.1412 , 738.1536 , 739.16583,\n",
       "       740.1779 , 741.1898 , 742.20154, 743.2131 , 744.2244 , 745.2356 ,\n",
       "       746.2466 , 747.2574 , 748.26807, 749.2785 , 750.2888 , 751.29895,\n",
       "       752.3089 , 753.31866, 754.3282 ], dtype=float32)</pre></div></li></ul></div></li><li class='xr-section-item'><input id='section-3129bb3c-9055-42fb-b5f1-bac8875b0299' class='xr-section-summary-in' type='checkbox'  ><label for='section-3129bb3c-9055-42fb-b5f1-bac8875b0299' class='xr-section-summary' >Attributes: <span>(30)</span></label><div class='xr-section-inline-details'></div><div class='xr-section-details'><dl class='xr-attrs'><dt><span>WdfFlag :</span></dt><dd>WdfXYXY</dd><dt><span>PointsPerSpectrum :</span></dt><dd>393</dd><dt><span>Capacity :</span></dt><dd>7921</dd><dt><span>Count :</span></dt><dd>7921</dd><dt><span>AccumulationCount :</span></dt><dd>0</dd><dt><span>YlistLength :</span></dt><dd>1</dd><dt><span>XlistLength :</span></dt><dd>393</dd><dt><span>DataOriginCount :</span></dt><dd>5</dd><dt><span>ApplicationName :</span></dt><dd>WiRE</dd><dt><span>ApplicationVersion :</span></dt><dd>3.0.0 build 0</dd><dt><span>ScanType :</span></dt><dd>Static</dd><dt><span>MeasurementType :</span></dt><dd>Map</dd><dt><span>StartTime :</span></dt><dd>2015-12-02 18:00:46</dd><dt><span>EndTime :</span></dt><dd>2015-12-03 05:38:19</dd><dt><span>SpectralUnits :</span></dt><dd>Counts</dd><dt><span>LaserWaveLength :</span></dt><dd>633.0</dd><dt><span>Title :</span></dt><dd>Simple mapping measurement 11</dd><dt><span>XlistDataType :</span></dt><dd>Frequency</dd><dt><span>XlistDataUnits :</span></dt><dd>RamanShift</dd><dt><span>YlistDataType :</span></dt><dd>SpatialY</dd><dt><span>YlistDataUnits :</span></dt><dd>Pixels</dd><dt><span>MapAreaType :</span></dt><dd>InvertedRows</dd><dt><span>InitialCoordinates :</span></dt><dd>[35.   10.   -8.28]</dd><dt><span>StepSizes :</span></dt><dd>[0.4 0.4 1. ]</dd><dt><span>NbSteps :</span></dt><dd>[89 89  1]</dd><dt><span>LineFocusSize :</span></dt><dd>0</dd><dt><span>FileSize :</span></dt><dd>12.3MB</dd><dt><span>ScanShape :</span></dt><dd>(89, 89)</dd><dt><span>ColCoord :</span></dt><dd>X</dd><dt><span>RowCoord :</span></dt><dd>Y</dd></dl></div></li></ul></div></div>"
      ],
      "text/plain": [
       "<xarray.DataArray (points: 7921, RamanShifts: 393)>\n",
       "array([[684.0734 , 667.896  , 642.59595, ..., 492.60477, 524.8775 ,\n",
       "        482.87344],\n",
       "       [584.6979 , 605.49744, 587.12006, ..., 415.86734, 406.0373 ,\n",
       "        430.8717 ],\n",
       "       [605.49744, 628.60803, 591.74304, ..., 381.21173, 396.13397,\n",
       "        344.2021 ],\n",
       "       ...,\n",
       "       [446.03436, 462.21176, 436.87277, ..., 250.01549, 259.96292,\n",
       "        264.96133],\n",
       "       [446.03436, 483.0113 , 427.6268 , ..., 294.5727 , 289.67294,\n",
       "        264.96133],\n",
       "       [485.32236, 506.1219 , 499.28317, ..., 279.7203 , 302.05215,\n",
       "        264.96133]], dtype=float32)\n",
       "Coordinates:\n",
       "    X        (points) float64 35.0 35.4 35.8 36.2 36.6 ... 69.0 69.4 69.8 70.2\n",
       "    Y        (points) float64 10.0 10.0 10.0 10.0 10.0 ... 45.2 45.2 45.2 45.2\n",
       "    Time     (points) datetime64[ns] 2015-12-02T17:00:51 ... 2015-12-03T04:38:18\n",
       "    shifts   (RamanShifts) float32 344.8 345.9 347.0 348.1 ... 752.3 753.3 754.3\n",
       "Dimensions without coordinates: points, RamanShifts\n",
       "Attributes:\n",
       "    WdfFlag:             WdfXYXY\n",
       "    PointsPerSpectrum:   393\n",
       "    Capacity:            7921\n",
       "    Count:               7921\n",
       "    AccumulationCount:   0\n",
       "    YlistLength:         1\n",
       "    XlistLength:         393\n",
       "    DataOriginCount:     5\n",
       "    ApplicationName:     WiRE\n",
       "    ApplicationVersion:  3.0.0 build 0\n",
       "    ScanType:            Static\n",
       "    MeasurementType:     Map\n",
       "    StartTime:           2015-12-02 18:00:46\n",
       "    EndTime:             2015-12-03 05:38:19\n",
       "    SpectralUnits:       Counts\n",
       "    LaserWaveLength:     633.0\n",
       "    Title:               Simple mapping measurement 11\n",
       "    XlistDataType:       Frequency\n",
       "    XlistDataUnits:      RamanShift\n",
       "    YlistDataType:       SpatialY\n",
       "    YlistDataUnits:      Pixels\n",
       "    MapAreaType:         InvertedRows\n",
       "    InitialCoordinates:  [35.   10.   -8.28]\n",
       "    StepSizes:           [0.4 0.4 1. ]\n",
       "    NbSteps:             [89 89  1]\n",
       "    LineFocusSize:       0\n",
       "    FileSize:            12.3MB\n",
       "    ScanShape:           (89, 89)\n",
       "    ColCoord:            X\n",
       "    RowCoord:            Y"
      ]
     },
     "execution_count": 4,
     "metadata": {},
     "output_type": "execute_result"
    }
   ],
   "source": []
  },
  {
   "cell_type": "code",
   "execution_count": 9,
   "id": "b77012ca",
   "metadata": {},
   "outputs": [
    {
     "data": {
      "text/plain": [
       "(7921, 393)"
      ]
     },
     "execution_count": 9,
     "metadata": {},
     "output_type": "execute_result"
    }
   ],
   "source": [
    "da.data.shape"
   ]
  },
  {
   "cell_type": "markdown",
   "id": "69472928",
   "metadata": {},
   "source": [
    "### Visualisation & Preprocessing"
   ]
  },
  {
   "cell_type": "code",
   "execution_count": 5,
   "id": "caf7a280",
   "metadata": {},
   "outputs": [],
   "source": [
    "vis.show_grid(da, img) # show your Cartography and the scanning part"
   ]
  },
  {
   "cell_type": "code",
   "execution_count": 6,
   "id": "4cc15f5e",
   "metadata": {},
   "outputs": [],
   "source": [
    "# show all your spectra and scroll trough them using the slide bar\n",
    "#you can also enter a number of specific spectra \n",
    "show_all_spectra = vis.ShowSpectra(da); "
   ]
  },
  {
   "cell_type": "code",
   "execution_count": 28,
   "id": "0911c829",
   "metadata": {},
   "outputs": [],
   "source": [
    "# after seing all your spectra, if you want to truncate run this cell. you can also add right values.\n",
    "# if not, pass.\n",
    "da = pp.select_zone(da, left=200)\n",
    "after_cutting_check = vis.ShowSpectra(da);"
   ]
  },
  {
   "cell_type": "code",
   "execution_count": 10,
   "id": "4037bb6e",
   "metadata": {},
   "outputs": [],
   "source": [
    "# show all the intensity map depending on wavenumber.\n",
    "show_all_map = vis.AllMaps(da);"
   ]
  },
  {
   "cell_type": "markdown",
   "id": "45ad965a",
   "metadata": {},
   "source": [
    "#### Baseline Substraction"
   ]
  },
  {
   "cell_type": "code",
   "execution_count": 11,
   "id": "f7e2945e",
   "metadata": {},
   "outputs": [],
   "source": [
    "#  substract baseline : you have to modify lambda_value(smoothing parameter), p_value(the penalizing weighting factor)\n",
    "# and lambda1_value(the smoothing parameter for the first derivative of the residual).\n",
    "check_bline = vis.FindBaseline(da,sigma=da.shifts.data)"
   ]
  },
  {
   "cell_type": "code",
   "execution_count": 12,
   "id": "db19a427",
   "metadata": {},
   "outputs": [
    {
     "name": "stdout",
     "output_type": "stream",
     "text": [
      "p: 2.20e-02, lam: 1.09e+06,lam1: 1.00e-03 \n"
     ]
    }
   ],
   "source": [
    "# run to see chosen values\n",
    "print(f\"p: {check_bline.p_val:.2e}, lam: {check_bline.lam_val:.2e},lam1: {check_bline.lam1_val:.2e} \")"
   ]
  },
  {
   "cell_type": "code",
   "execution_count": 13,
   "id": "6d0b6cee",
   "metadata": {},
   "outputs": [],
   "source": [
    "# calculate the basline for all spectrum\n",
    "baseline = cc.baseline_ials(da, p=check_bline.p_val, lam=check_bline.lam_val, lam1= check_bline.lam1_val)"
   ]
  },
  {
   "cell_type": "code",
   "execution_count": 14,
   "id": "3ec878e6",
   "metadata": {},
   "outputs": [],
   "source": [
    "# substraction\n",
    "db = da.copy()\n",
    "db.values = db.values - baseline"
   ]
  },
  {
   "cell_type": "code",
   "execution_count": 15,
   "id": "13ea8220",
   "metadata": {},
   "outputs": [],
   "source": [
    "# show result\n",
    "after_baseline = vis.ShowSpectra(db)"
   ]
  },
  {
   "cell_type": "markdown",
   "id": "eecca1f9",
   "metadata": {},
   "source": [
    "#### Cosmic Ray Removal"
   ]
  },
  {
   "cell_type": "code",
   "execution_count": 16,
   "id": "99218866",
   "metadata": {},
   "outputs": [
    {
     "name": "stdout",
     "output_type": "stream",
     "text": [
      "54\n"
     ]
    }
   ],
   "source": [
    "# window_size : elements within shape [1,window_size,1] will get passed to the filter function.\n",
    "# you can also change the mode{'reflect', 'constant', 'nearest', 'mirror', 'wrap'}. I use mirror by default\n",
    "# if you see that the algorithm detect a spike but it's not really a spike, you can put the number of this spectrum in not_spike\n",
    "# and run the cell again\n",
    "dm = pp.remove_outliers(db,window_size = 5,visualize=1,not_spike=[])"
   ]
  },
  {
   "cell_type": "code",
   "execution_count": 143,
   "id": "1f0472fe",
   "metadata": {},
   "outputs": [
    {
     "data": {
      "text/plain": [
       "<visualize.ShowSpectra at 0x1be2418af70>"
      ]
     },
     "execution_count": 143,
     "metadata": {},
     "output_type": "execute_result"
    }
   ],
   "source": [
    "vis.ShowSpectra(dm)"
   ]
  },
  {
   "cell_type": "markdown",
   "id": "87ec43d4",
   "metadata": {},
   "source": [
    "#### RPCA (Robust PCA)"
   ]
  },
  {
   "cell_type": "code",
   "execution_count": 17,
   "id": "e9564a08",
   "metadata": {},
   "outputs": [
    {
     "data": {
      "text/plain": [
       "Text(0.5, 1.0, 'E')"
      ]
     },
     "execution_count": 17,
     "metadata": {},
     "output_type": "execute_result"
    }
   ],
   "source": [
    "# run this cell to see what RPCA does.\n",
    "# choose noise image and replace it by noise2. if you have .png image, you don't need to divide it by 255 \n",
    "im = plt.imread(\"C:/Users/raoul.missodey/Desktop/Code_python/\" + \"noise5.png\")\n",
    "if im.ndim == 2 : \n",
    "    imgray = im.copy()\n",
    "else :\n",
    "    imgray = np.mean(im,-1)\n",
    "A , E = pp.ialm_rpca(imgray)\n",
    "\n",
    "fig,ax = plt.subplots(nrows = 1,ncols = 3,figsize=(15,8))\n",
    "ax[0].imshow(imgray,cmap='gray')\n",
    "ax[0].set_title('X')\n",
    "ax[1].imshow(A,cmap='gray')\n",
    "ax[1].set_title('A')\n",
    "ax[2].imshow(E,cmap='gray')\n",
    "ax[2].set_title('E')"
   ]
  },
  {
   "cell_type": "code",
   "execution_count": null,
   "id": "63cfc2cd",
   "metadata": {},
   "outputs": [],
   "source": []
  },
  {
   "cell_type": "code",
   "execution_count": 26,
   "id": "7d4ec4ce",
   "metadata": {},
   "outputs": [],
   "source": [
    "# let's try it on our data.\n",
    "A, E = pp.ialm_rpca(da.data)\n",
    "drpca = db.copy()\n",
    "drpca.values = A\n",
    "showrpca_spectra = vis.ShowSpectra(drpca) "
   ]
  },
  {
   "cell_type": "code",
   "execution_count": 30,
   "id": "36c0b42d",
   "metadata": {},
   "outputs": [],
   "source": [
    "# show all maps after rpca\n",
    "showrpca_map = vis.AllMaps(drpca)"
   ]
  },
  {
   "cell_type": "code",
   "execution_count": 62,
   "id": "d8ceb212",
   "metadata": {},
   "outputs": [],
   "source": [
    "showrpca_spectra = vis.ShowSpectra(db) "
   ]
  },
  {
   "cell_type": "code",
   "execution_count": 29,
   "id": "e2c33880",
   "metadata": {},
   "outputs": [],
   "source": [
    "drpca1 = db.copy()\n",
    "drpca1.values = E\n",
    "showrpca_spectra = vis.ShowSpectra(drpca1) \n",
    "showrpca_map = vis.AllMaps(drpca1)"
   ]
  },
  {
   "cell_type": "markdown",
   "id": "fac07253",
   "metadata": {},
   "source": [
    "#### Normalization"
   ]
  },
  {
   "cell_type": "code",
   "execution_count": 18,
   "id": "ce757064",
   "metadata": {},
   "outputs": [],
   "source": [
    "# choose normalize method you want to apply : min_max, l1, l2, max, area, robust_scale \n",
    "#dm.values -= np.min(dm.values, axis=-1, keepdims=True)\n",
    "dn = pp.normalize(dm, method=\"min_max\")\n",
    "after_normalize = vis.ShowSpectra(dn)"
   ]
  },
  {
   "cell_type": "code",
   "execution_count": null,
   "id": "f8fb88ae",
   "metadata": {},
   "outputs": [],
   "source": []
  },
  {
   "cell_type": "markdown",
   "id": "a65bdc2d",
   "metadata": {},
   "source": [
    "### Processing"
   ]
  },
  {
   "cell_type": "markdown",
   "id": "e1b6d39e",
   "metadata": {},
   "source": [
    "#### PCA"
   ]
  },
  {
   "cell_type": "code",
   "execution_count": 28,
   "id": "a5869e55",
   "metadata": {},
   "outputs": [],
   "source": [
    "# compute pca using svd decomposition\n",
    "dsvd ,var,scores,loadings = pp.svd_decomp(dn, n_components=11, visualize_clean=1, visualize_components=1,visualize_err=1)"
   ]
  },
  {
   "cell_type": "code",
   "execution_count": 21,
   "id": "a45635ba",
   "metadata": {},
   "outputs": [
    {
     "data": {
      "text/plain": [
       "array([98.1,  1.2,  0. ,  0. ,  0. ,  0. ,  0. ,  0. ,  0. ,  0. ,  0. ])"
      ]
     },
     "execution_count": 21,
     "metadata": {},
     "output_type": "execute_result"
    }
   ],
   "source": [
    "# in var we have \"explained variance\" of each components\n",
    "var"
   ]
  },
  {
   "cell_type": "code",
   "execution_count": 23,
   "id": "5e069fae",
   "metadata": {},
   "outputs": [],
   "source": [
    "# choose number of component you want to keep\n",
    "dsvd ,var,score ,loadings = pp.svd_decomp(dn, n_components=7, visualize_clean=1, visualize_components=1,visualize_err=1)"
   ]
  },
  {
   "cell_type": "code",
   "execution_count": null,
   "id": "8136e3a8",
   "metadata": {},
   "outputs": [],
   "source": []
  },
  {
   "cell_type": "code",
   "execution_count": null,
   "id": "567927df",
   "metadata": {},
   "outputs": [],
   "source": []
  },
  {
   "cell_type": "markdown",
   "id": "d22485c3",
   "metadata": {},
   "source": [
    "#### NMF Decomposition"
   ]
  },
  {
   "cell_type": "code",
   "execution_count": 24,
   "id": "9f4d1803",
   "metadata": {},
   "outputs": [
    {
     "name": "stdout",
     "output_type": "stream",
     "text": [
      "Error increased above fractionalctol_increase (C iter). Exiting\n"
     ]
    }
   ],
   "source": [
    "# Run this cell to see pure spectrum and pure contribution\n",
    "dnm = proc.deconvolve_nmf(dn, n_components=10, visualize_components=1, visualize_compare=1, visualize_err=1)"
   ]
  },
  {
   "cell_type": "markdown",
   "id": "fea64e9b",
   "metadata": {},
   "source": [
    "#### HCA (clustering)"
   ]
  },
  {
   "cell_type": "code",
   "execution_count": 25,
   "id": "b491bb01",
   "metadata": {},
   "outputs": [],
   "source": [
    "# run this cell will show the dendrogramm :\n",
    "# you can change the method you want to use to calculate the distance between your classes : average, single, complete,ward...\n",
    "# also you can change the metric you want to use to calculate the distance between your spectrum : \n",
    "#'chebyshev', 'cityblock', 'correlation', 'cosine', 'dice', 'euclidean'...\n",
    "dhca,spectra_hca = proc.hca(dsvd,method='ward',metric ='euclidean',visualize=1)"
   ]
  },
  {
   "cell_type": "code",
   "execution_count": 27,
   "id": "da984ed0",
   "metadata": {},
   "outputs": [],
   "source": [
    "# after you have visualized your dendrogramm choose where you want to cute it : (t)\n",
    "# then replace t by this value and run the cell to visualize the result\n",
    "# criterion : inconsistent, distance, maxclust...\n",
    "#right click on the map to see the corresponding spectrum in cluster\n",
    "showhca = vis.ShowHca(dhca, dsvd,spectra_hca,t=40,criterion='distance')"
   ]
  },
  {
   "cell_type": "markdown",
   "id": "3ad9f83e",
   "metadata": {},
   "source": [
    "#### KMeans (cluster analysis in WiRE)"
   ]
  },
  {
   "cell_type": "code",
   "execution_count": 86,
   "id": "24d5a770",
   "metadata": {},
   "outputs": [],
   "source": [
    "# run this cell to see inertia curve. you can also changed the maximalumber of your cluster ; warn : big number can make\n",
    "# the algorithm slow\n",
    "inertia = vis.ShowElbpt(30, dsvd)"
   ]
  },
  {
   "cell_type": "code",
   "execution_count": 87,
   "id": "2de85082",
   "metadata": {},
   "outputs": [
    {
     "data": {
      "text/plain": [
       "4"
      ]
     },
     "execution_count": 87,
     "metadata": {},
     "output_type": "execute_result"
    }
   ],
   "source": [
    "# see the number of your maximal cluster given by Elbow method , warn : use the same maximal number of cluster\n",
    "# curve : convex or concave depending on the look of your curve\n",
    "# direction : decreasing or increasing\n",
    "vis.print_elbowpt(30, inertia, curve=\"convex\", direction=\"decreasing\")"
   ]
  },
  {
   "cell_type": "code",
   "execution_count": 88,
   "id": "e79a3a53",
   "metadata": {},
   "outputs": [],
   "source": [
    "# enter the number of cluster given by the Elbow method\n",
    "# again right click on the map to see the corresponding spectrum in cluster\n",
    "showkmeans = vis.ShowKMeans(dsvd,nb_clas= 4) "
   ]
  }
 ],
 "metadata": {
  "kernelspec": {
   "display_name": "Python 3 (ipykernel)",
   "language": "python",
   "name": "python3"
  },
  "language_info": {
   "codemirror_mode": {
    "name": "ipython",
    "version": 3
   },
   "file_extension": ".py",
   "mimetype": "text/x-python",
   "name": "python",
   "nbconvert_exporter": "python",
   "pygments_lexer": "ipython3",
   "version": "3.9.12"
  }
 },
 "nbformat": 4,
 "nbformat_minor": 5
}
