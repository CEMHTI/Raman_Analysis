{
 "cells": [
  {
   "cell_type": "markdown",
   "id": "43bdeeb2",
   "metadata": {},
   "source": [
    "Import all modules you'll need. if you get an error like : no module \"module_name\" found; just run \"pip install module_name\" in empty cell."
   ]
  },
  {
   "cell_type": "code",
   "execution_count": 1,
   "id": "7a7b6f3c",
   "metadata": {},
   "outputs": [],
   "source": [
    "%matplotlib Qt\n",
    "%load_ext autoreload \n",
    "# to automaticaly reload all the modules that have been modified\n",
    "%autoreload 2 \n",
    "import os\n",
    "from glob import glob\n",
    "import numpy as np\n",
    "import xarray as xr\n",
    "import matplotlib.pyplot as plt\n",
    "from scipy import interpolate\n",
    "from sklearn.model_selection import train_test_split, cross_val_score, GridSearchCV, ShuffleSplit\n",
    "from sklearn import svm, kernel_ridge, metrics, preprocessing\n",
    "from PIL import Image, ExifTags, ImageFile\n",
    "import visualize as vis\n",
    "import preprocessing as pp\n",
    "import processing as proc\n",
    "import calculate as cc\n",
    "import correction as corr\n",
    "from read_WDF import read_WDF, get_exif\n",
    "import warnings\n",
    "warnings.filterwarnings('ignore')"
   ]
  },
  {
   "cell_type": "markdown",
   "id": "d7798235",
   "metadata": {},
   "source": [
    "### Reading\n",
    "\n",
    "In os.chdir, put the enplacement of your .wdf file and run the cell to get all your wdf files."
   ]
  },
  {
   "cell_type": "code",
   "execution_count": 2,
   "id": "e1412121",
   "metadata": {},
   "outputs": [
    {
     "name": "stdout",
     "output_type": "stream",
     "text": [
      "0 )  10nA_5h_obj10.wdf\n",
      "1 )  800C_355nm.wdf\n",
      "2 )  bida-a_pt1.wdf\n",
      "3 )  bida-a_pt2.wdf\n",
      "4 )  bida-a_pt3.wdf\n",
      "5 )  bida-a_pt4.wdf\n",
      "6 )  bida-a_pt5.wdf\n",
      "7 )  B_carto_rayon_633nm_50%.wdf\n",
      "8 )  Ca675A325_514nm.wdf\n",
      "9 )  carto_10238_20x_HD1.wdf\n",
      "10 )  carto_10238_20x_tr.wdf\n",
      "11 )  carto_10291.wdf\n",
      "12 )  carto_50x-bacteries-stramline.wdf\n",
      "13 )  Carto_plaque_M3C0_7x7cm.wdf\n",
      "14 )  carto_Z0_CR_NF3_curve fitting.wdf\n",
      "15 )  cit-ACP1_chauffe_25-400°C_488nm_1-34sp.wdf\n",
      "16 )  depth_Raoul.wdf\n",
      "17 )  line.wdf\n",
      "18 )  mapping.wdf\n",
      "19 )  nax31_C_zone3_carto100x.wdf\n",
      "20 )  ref-big-carto_633nm-50�-1_CCR.wdf\n",
      "21 )  ref-big-carto_633nm-50�-1_CCR_Copy1.wdf\n",
      "22 )  silice_LR.wdf\n",
      "23 )  Spectre_M3C0_514nm.wdf\n",
      "24 )  Streamline.wdf\n",
      "25 )  test.wdf\n",
      "26 )  UO2 vierge LD2600 633 VV_point.wdf\n",
      "27 )  UO2 vierge LD2600 633 VV_point_1st_try.wdf\n",
      "28 )  UO2 vierge LD2600 633 VV_point_Copy1.wdf\n",
      "29 )  UO2 vierge LD2600 633 VV_point_Copy2nd.wdf\n",
      "30 )  UO2 vierge LD2600 633 VV_point_grande carte.wdf\n",
      "31 )  UO2 vierge LD2600 633 VV_streamline.wdf\n",
      "32 )  UO2 vierge LD2600 633 VV_streamspot.wdf\n",
      "33 )  UO2 vierge LD2600 633 VV_streamspot_Mod.wdf\n",
      "34 )  UO2_LD2-600_Olga_map-Pelletron.wdf\n",
      "35 )  UO2_LD2-600_Olga_map-Pelletron_Copy1.wdf\n",
      "36 )  UO2_LD2-600_Olga_map-Pelletron_Copy2.wdf\n",
      "37 )  YG2UCO15_carto.wdf\n"
     ]
    }
   ],
   "source": [
    "os.chdir('C:/Users/raoul.missodey/Desktop/Code_python')\n",
    "files = glob('*.wdf')\n",
    "for i, j in enumerate(files):\n",
    "    print(i, ') ', j)"
   ]
  },
  {
   "cell_type": "code",
   "execution_count": 3,
   "id": "aeae7e99",
   "metadata": {},
   "outputs": [],
   "source": [
    "filename = files[26] # choose the number of .wdf file you want to use.\n",
    "# load the file\n",
    "da, img = read_WDF(filename, verbose=0) # verbose = 1 or true to have all information about your file."
   ]
  },
  {
   "cell_type": "code",
   "execution_count": null,
   "id": "5f872892",
   "metadata": {},
   "outputs": [],
   "source": []
  },
  {
   "cell_type": "code",
   "execution_count": null,
   "id": "67d918fa",
   "metadata": {},
   "outputs": [],
   "source": []
  },
  {
   "cell_type": "code",
   "execution_count": 5,
   "id": "b77012ca",
   "metadata": {},
   "outputs": [
    {
     "data": {
      "text/plain": [
       "(7380, 391)"
      ]
     },
     "execution_count": 5,
     "metadata": {},
     "output_type": "execute_result"
    }
   ],
   "source": [
    "da.data.shape"
   ]
  },
  {
   "cell_type": "markdown",
   "id": "69472928",
   "metadata": {},
   "source": [
    "### Visualisation & Preprocessing"
   ]
  },
  {
   "cell_type": "code",
   "execution_count": 4,
   "id": "caf7a280",
   "metadata": {},
   "outputs": [],
   "source": [
    "vis.show_grid(da, img) # show your Cartography and the scanning part"
   ]
  },
  {
   "cell_type": "code",
   "execution_count": 6,
   "id": "4cc15f5e",
   "metadata": {},
   "outputs": [],
   "source": [
    "# show all your spectra and scroll trough them using the slide bar\n",
    "#you can also enter a number of specific spectra \n",
    "show_all_spectra = vis.ShowSpectra(da); "
   ]
  },
  {
   "cell_type": "code",
   "execution_count": 28,
   "id": "0911c829",
   "metadata": {},
   "outputs": [],
   "source": [
    "# after seing all your spectra, if you want to truncate run this cell. you can also add right values.\n",
    "# if not, pass.\n",
    "da = pp.select_zone(da, left=200)\n",
    "after_cutting_check = vis.ShowSpectra(da);"
   ]
  },
  {
   "cell_type": "code",
   "execution_count": 10,
   "id": "4037bb6e",
   "metadata": {},
   "outputs": [],
   "source": [
    "# show all the intensity map depending on wavenumber.\n",
    "show_all_map = vis.AllMaps(da);"
   ]
  },
  {
   "cell_type": "markdown",
   "id": "45ad965a",
   "metadata": {},
   "source": [
    "#### Baseline Substraction\n",
    "\n",
    "Two options to substract the baseline "
   ]
  },
  {
   "cell_type": "markdown",
   "id": "e9cf0ea0",
   "metadata": {},
   "source": [
    "#### 1st option"
   ]
  },
  {
   "cell_type": "code",
   "execution_count": 11,
   "id": "f7e2945e",
   "metadata": {},
   "outputs": [],
   "source": [
    "#  substract baseline : you have to modify lambda_value(smoothing parameter), p_value(the penalizing weighting factor)\n",
    "# and lambda1_value(the smoothing parameter for the first derivative of the residual).\n",
    "check_bline = vis.FindBaseline(da,sigma=da.shifts.data)"
   ]
  },
  {
   "cell_type": "code",
   "execution_count": 12,
   "id": "db19a427",
   "metadata": {},
   "outputs": [
    {
     "name": "stdout",
     "output_type": "stream",
     "text": [
      "p: 2.20e-02, lam: 1.09e+06,lam1: 1.00e-03 \n"
     ]
    }
   ],
   "source": [
    "# run to see chosen values\n",
    "print(f\"p: {check_bline.p_val:.2e}, lam: {check_bline.lam_val:.2e},lam1: {check_bline.lam1_val:.2e} \")"
   ]
  },
  {
   "cell_type": "code",
   "execution_count": 13,
   "id": "6d0b6cee",
   "metadata": {},
   "outputs": [],
   "source": [
    "# calculate the basline for all spectrum\n",
    "baseline = cc.baseline_ials(da, p=check_bline.p_val, lam=check_bline.lam_val, lam1= check_bline.lam1_val)"
   ]
  },
  {
   "cell_type": "code",
   "execution_count": 14,
   "id": "3ec878e6",
   "metadata": {},
   "outputs": [],
   "source": [
    "# substraction\n",
    "db = da.copy()\n",
    "db.values = db.values - baseline"
   ]
  },
  {
   "cell_type": "code",
   "execution_count": 15,
   "id": "13ea8220",
   "metadata": {},
   "outputs": [],
   "source": [
    "# show result\n",
    "after_baseline = vis.ShowSpectra(db)"
   ]
  },
  {
   "cell_type": "markdown",
   "id": "a6b63d01",
   "metadata": {},
   "source": [
    "#### 2nd option"
   ]
  },
  {
   "cell_type": "code",
   "execution_count": 8,
   "id": "db24c6b7",
   "metadata": {},
   "outputs": [],
   "source": [
    "check_bline = vis.FindBaseline1(da,sigma=da.shifts.data)"
   ]
  },
  {
   "cell_type": "code",
   "execution_count": 9,
   "id": "6d4fc685",
   "metadata": {},
   "outputs": [
    {
     "name": "stdout",
     "output_type": "stream",
     "text": [
      "lam: 3.18e+08\n"
     ]
    }
   ],
   "source": [
    "print(f\"lam: {check_bline.lam_val:.2e}\")"
   ]
  },
  {
   "cell_type": "code",
   "execution_count": 10,
   "id": "c0938f18",
   "metadata": {},
   "outputs": [],
   "source": [
    "# calculate the basline for all spectrum\n",
    "baseline = cc.baseline_arpls(da, lam=check_bline.lam_val)"
   ]
  },
  {
   "cell_type": "code",
   "execution_count": 12,
   "id": "fd020e2a",
   "metadata": {},
   "outputs": [],
   "source": [
    "# substraction\n",
    "db = da.copy()\n",
    "db = db.values - baseline"
   ]
  },
  {
   "cell_type": "code",
   "execution_count": null,
   "id": "f8500446",
   "metadata": {},
   "outputs": [],
   "source": [
    "# show result\n",
    "after_baseline = vis.ShowSpectra(db)"
   ]
  },
  {
   "cell_type": "markdown",
   "id": "eecca1f9",
   "metadata": {},
   "source": [
    "#### Cosmic Ray Removal"
   ]
  },
  {
   "cell_type": "code",
   "execution_count": 16,
   "id": "99218866",
   "metadata": {},
   "outputs": [
    {
     "name": "stdout",
     "output_type": "stream",
     "text": [
      "54\n"
     ]
    }
   ],
   "source": [
    "# window_size : elements within shape [1,window_size,1] will get passed to the filter function.\n",
    "# you can also change the mode{'reflect', 'constant', 'nearest', 'mirror', 'wrap'}. I use mirror by default\n",
    "# if you see that the algorithm detect a spike but it's not really a spike, you can put the number of this spectrum in not_spike\n",
    "# and run the cell again\n",
    "dm = pp.remove_outliers(db,window_size = 5,visualize=1,not_spike=[])"
   ]
  },
  {
   "cell_type": "code",
   "execution_count": 143,
   "id": "1f0472fe",
   "metadata": {},
   "outputs": [
    {
     "data": {
      "text/plain": [
       "<visualize.ShowSpectra at 0x1be2418af70>"
      ]
     },
     "execution_count": 143,
     "metadata": {},
     "output_type": "execute_result"
    }
   ],
   "source": [
    "vis.ShowSpectra(dm)"
   ]
  },
  {
   "cell_type": "markdown",
   "id": "87ec43d4",
   "metadata": {},
   "source": [
    "#### RPCA (Robust PCA)"
   ]
  },
  {
   "cell_type": "code",
   "execution_count": 17,
   "id": "e9564a08",
   "metadata": {},
   "outputs": [
    {
     "data": {
      "text/plain": [
       "Text(0.5, 1.0, 'E')"
      ]
     },
     "execution_count": 17,
     "metadata": {},
     "output_type": "execute_result"
    }
   ],
   "source": [
    "# run this cell to see what RPCA does.\n",
    "# choose noise image and replace it by noise2. if you have .png image, you don't need to divide it by 255 \n",
    "im = plt.imread(\"C:/Users/raoul.missodey/Desktop/Code_python/\" + \"noise5.png\")\n",
    "if im.ndim == 2 : \n",
    "    imgray = im.copy()\n",
    "else :\n",
    "    imgray = np.mean(im,-1)\n",
    "A , E = pp.ialm_rpca(imgray)\n",
    "\n",
    "fig,ax = plt.subplots(nrows = 1,ncols = 3,figsize=(15,8))\n",
    "ax[0].imshow(imgray,cmap='gray')\n",
    "ax[0].set_title('X')\n",
    "ax[1].imshow(A,cmap='gray')\n",
    "ax[1].set_title('A')\n",
    "ax[2].imshow(E,cmap='gray')\n",
    "ax[2].set_title('E')"
   ]
  },
  {
   "cell_type": "code",
   "execution_count": null,
   "id": "63cfc2cd",
   "metadata": {},
   "outputs": [],
   "source": []
  },
  {
   "cell_type": "code",
   "execution_count": 26,
   "id": "7d4ec4ce",
   "metadata": {},
   "outputs": [],
   "source": [
    "# let's try it on our data.\n",
    "A, E = pp.ialm_rpca(da.data)\n",
    "drpca = db.copy()\n",
    "drpca.values = A\n",
    "showrpca_spectra = vis.ShowSpectra(drpca) "
   ]
  },
  {
   "cell_type": "code",
   "execution_count": 30,
   "id": "36c0b42d",
   "metadata": {},
   "outputs": [],
   "source": [
    "# show all maps after rpca\n",
    "showrpca_map = vis.AllMaps(drpca)"
   ]
  },
  {
   "cell_type": "code",
   "execution_count": 62,
   "id": "d8ceb212",
   "metadata": {},
   "outputs": [],
   "source": [
    "showrpca_spectra = vis.ShowSpectra(db) "
   ]
  },
  {
   "cell_type": "code",
   "execution_count": 29,
   "id": "e2c33880",
   "metadata": {},
   "outputs": [],
   "source": [
    "drpca1 = db.copy()\n",
    "drpca1.values = E\n",
    "showrpca_spectra = vis.ShowSpectra(drpca1) \n",
    "showrpca_map = vis.AllMaps(drpca1)"
   ]
  },
  {
   "cell_type": "markdown",
   "id": "fac07253",
   "metadata": {},
   "source": [
    "#### Normalization"
   ]
  },
  {
   "cell_type": "code",
   "execution_count": 13,
   "id": "ce757064",
   "metadata": {},
   "outputs": [],
   "source": [
    "# choose normalize method you want to apply : min_max, l1, l2, max, area, robust_scale \n",
    "#dm.values -= np.min(dm.values, axis=-1, keepdims=True)\n",
    "dn = pp.normalize(db, method=\"min_max\")\n",
    "after_normalize = vis.ShowSpectra(dn)"
   ]
  },
  {
   "cell_type": "code",
   "execution_count": null,
   "id": "f8fb88ae",
   "metadata": {},
   "outputs": [],
   "source": []
  },
  {
   "cell_type": "markdown",
   "id": "a65bdc2d",
   "metadata": {},
   "source": [
    "### Processing"
   ]
  },
  {
   "cell_type": "markdown",
   "id": "e1b6d39e",
   "metadata": {},
   "source": [
    "#### PCA"
   ]
  },
  {
   "cell_type": "code",
   "execution_count": 28,
   "id": "a5869e55",
   "metadata": {},
   "outputs": [],
   "source": [
    "# compute pca using svd decomposition\n",
    "dsvd ,var,scores,loadings = pp.svd_decomp(dn, n_components=11, visualize_clean=1, visualize_components=1,visualize_err=1)"
   ]
  },
  {
   "cell_type": "code",
   "execution_count": 21,
   "id": "a45635ba",
   "metadata": {},
   "outputs": [
    {
     "data": {
      "text/plain": [
       "array([98.1,  1.2,  0. ,  0. ,  0. ,  0. ,  0. ,  0. ,  0. ,  0. ,  0. ])"
      ]
     },
     "execution_count": 21,
     "metadata": {},
     "output_type": "execute_result"
    }
   ],
   "source": [
    "# in var we have \"explained variance\" of each components\n",
    "var"
   ]
  },
  {
   "cell_type": "code",
   "execution_count": 23,
   "id": "5e069fae",
   "metadata": {},
   "outputs": [],
   "source": [
    "# choose number of component you want to keep\n",
    "dsvd ,var,score ,loadings = pp.svd_decomp(dn, n_components=7, visualize_clean=1, visualize_components=1,visualize_err=1)"
   ]
  },
  {
   "cell_type": "code",
   "execution_count": null,
   "id": "8136e3a8",
   "metadata": {},
   "outputs": [],
   "source": []
  },
  {
   "cell_type": "code",
   "execution_count": null,
   "id": "567927df",
   "metadata": {},
   "outputs": [],
   "source": []
  },
  {
   "cell_type": "markdown",
   "id": "d22485c3",
   "metadata": {},
   "source": [
    "#### NMF Decomposition"
   ]
  },
  {
   "cell_type": "code",
   "execution_count": 24,
   "id": "9f4d1803",
   "metadata": {},
   "outputs": [
    {
     "name": "stdout",
     "output_type": "stream",
     "text": [
      "Error increased above fractionalctol_increase (C iter). Exiting\n"
     ]
    }
   ],
   "source": [
    "# Run this cell to see pure spectrum and pure contribution\n",
    "dnm = proc.deconvolve_nmf(dn, n_components=10, visualize_components=1, visualize_compare=1, visualize_err=1)"
   ]
  },
  {
   "cell_type": "markdown",
   "id": "fea64e9b",
   "metadata": {},
   "source": [
    "#### HCA (clustering)"
   ]
  },
  {
   "cell_type": "code",
   "execution_count": 25,
   "id": "b491bb01",
   "metadata": {},
   "outputs": [],
   "source": [
    "# run this cell will show the dendrogramm :\n",
    "# you can change the method you want to use to calculate the distance between your classes : average, single, complete,ward...\n",
    "# also you can change the metric you want to use to calculate the distance between your spectrum : \n",
    "#'chebyshev', 'cityblock', 'correlation', 'cosine', 'dice', 'euclidean'...\n",
    "dhca,spectra_hca = proc.hca(dsvd,method='ward',metric ='euclidean',visualize=1)"
   ]
  },
  {
   "cell_type": "code",
   "execution_count": 27,
   "id": "da984ed0",
   "metadata": {},
   "outputs": [],
   "source": [
    "# after you have visualized your dendrogramm choose where you want to cute it : (t)\n",
    "# then replace t by this value and run the cell to visualize the result\n",
    "# criterion : inconsistent, distance, maxclust...\n",
    "#right click on the map to see the corresponding spectrum in cluster\n",
    "showhca = vis.ShowHca(dhca, dsvd,spectra_hca,t=40,criterion='distance')"
   ]
  },
  {
   "cell_type": "markdown",
   "id": "3ad9f83e",
   "metadata": {},
   "source": [
    "#### KMeans (cluster analysis in WiRE)"
   ]
  },
  {
   "cell_type": "code",
   "execution_count": 86,
   "id": "24d5a770",
   "metadata": {},
   "outputs": [],
   "source": [
    "# run this cell to see inertia curve. you can also changed the maximalumber of your cluster ; warn : big number can make\n",
    "# the algorithm slow\n",
    "inertia = vis.ShowElbpt(30, dsvd)"
   ]
  },
  {
   "cell_type": "code",
   "execution_count": 87,
   "id": "2de85082",
   "metadata": {},
   "outputs": [
    {
     "data": {
      "text/plain": [
       "4"
      ]
     },
     "execution_count": 87,
     "metadata": {},
     "output_type": "execute_result"
    }
   ],
   "source": [
    "# see the number of your maximal cluster given by Elbow method , warn : use the same maximal number of cluster\n",
    "# curve : convex or concave depending on the look of your curve\n",
    "# direction : decreasing or increasing\n",
    "vis.print_elbowpt(30, inertia, curve=\"convex\", direction=\"decreasing\")"
   ]
  },
  {
   "cell_type": "code",
   "execution_count": 88,
   "id": "e79a3a53",
   "metadata": {},
   "outputs": [],
   "source": [
    "# enter the number of cluster given by the Elbow method\n",
    "# again right click on the map to see the corresponding spectrum in cluster\n",
    "showkmeans = vis.ShowKMeans(dsvd,nb_clas= 4) "
   ]
  },
  {
   "cell_type": "markdown",
   "id": "27a0f421",
   "metadata": {},
   "source": [
    "### Postprocessing"
   ]
  },
  {
   "cell_type": "markdown",
   "id": "cae63ff1",
   "metadata": {},
   "source": [
    "#### Curve fitting"
   ]
  },
  {
   "cell_type": "code",
   "execution_count": 14,
   "id": "aa55d173",
   "metadata": {},
   "outputs": [],
   "source": [
    "# run this cell to fit all your spectra. here we use pseudo-voigt as model.\n",
    "# left click to draw the model, left click on the top of a model to remove it,\n",
    "# right click to draw the result of cumulative sum of all your models\n",
    "# after right clicking, if the sum is not good, just remove your indesirable models et restart.\n",
    "# scroll your mouse to adjust the width of the models\n",
    "\n",
    "# Important : double rigth click to end.\n",
    "#important : your data should have correct baseline et must be normalized.\n",
    "fiallspectra = vis.FitAllSpectra(dn)"
   ]
  },
  {
   "cell_type": "code",
   "execution_count": 15,
   "id": "0144cff8",
   "metadata": {},
   "outputs": [
    {
     "name": "stdout",
     "output_type": "stream",
     "text": [
      "1.5924315730730692 min\n"
     ]
    }
   ],
   "source": [
    "# after adding your model to the peaks position, run this cell to see the results.\n",
    "# this may take few minutes because I stock the peaks parameters in array which you can access through \"fitparams.pic_h\"\n",
    "# the table in the bottom of the plot doesn't change because it's just the parameters of the first fitting.\n",
    "# by now, it will take time to change the table when updating the plot.\n",
    "# \"fitparams.pic_h\" can be used to plot the peak ratio\n",
    "# \"fitparams.pic_a\" can be used to plot the peak ratio\n",
    "from time import*\n",
    "start = time()\n",
    "fitparams = vis.FitParams1(dn, fiallspectra.x_size, fiallspectra.peaks_counter,\n",
    "          fiallspectra.pic, fiallspectra.sum_peak)\n",
    "end = time()\n",
    "print((end - start)/60,\"min\")"
   ]
  },
  {
   "cell_type": "code",
   "execution_count": 25,
   "id": "8cf07619",
   "metadata": {},
   "outputs": [],
   "source": [
    "# run this cell to plot the peak ratio.\n",
    "# changes values in \"ratio\" according to which peak over which you whant to plot\n",
    "# use \"fitparams.pic_h\" to plot the peak height ratio : for instance ,to plot 1/2 , you will add ratio=(1,2)\n",
    "\n",
    "# use \"fitparams.pic_a\" to plot the peak area ratio : for instance ,to plot 1/2 , you will add ratio=(1,2)\n",
    "# to plot 0/(1+2) , you will add ratio = (0,1,2)\n",
    "\n",
    "vis.pic_ratio(da,fitparams.pic_h,ratio=(0,2),scanshape=(27,73))"
   ]
  },
  {
   "cell_type": "code",
   "execution_count": null,
   "id": "b30f967d",
   "metadata": {},
   "outputs": [],
   "source": []
  },
  {
   "cell_type": "code",
   "execution_count": null,
   "id": "01019b77",
   "metadata": {},
   "outputs": [],
   "source": []
  }
 ],
 "metadata": {
  "kernelspec": {
   "display_name": "Python 3 (ipykernel)",
   "language": "python",
   "name": "python3"
  },
  "language_info": {
   "codemirror_mode": {
    "name": "ipython",
    "version": 3
   },
   "file_extension": ".py",
   "mimetype": "text/x-python",
   "name": "python",
   "nbconvert_exporter": "python",
   "pygments_lexer": "ipython3",
   "version": "3.9.7"
  }
 },
 "nbformat": 4,
 "nbformat_minor": 5
}
